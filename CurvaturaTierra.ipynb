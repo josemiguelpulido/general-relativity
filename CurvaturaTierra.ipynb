{
  "nbformat": 4,
  "nbformat_minor": 0,
  "metadata": {
    "colab": {
      "name": "CurvaturaTierra.ipynb",
      "provenance": [],
      "authorship_tag": "ABX9TyNjZPKsDF0Yz/D3z658aggj"
    },
    "kernelspec": {
      "name": "python3",
      "display_name": "Python 3"
    },
    "language_info": {
      "name": "python"
    }
  },
  "cells": [
    {
      "cell_type": "markdown",
      "metadata": {
        "id": "cWKZrDMrJK2-"
      },
      "source": [
        "Se atribuye a Erastótenes la primera demostración de que la Tierra es redonda, así como del cálculo de su radio. Carl Sagan nos explica aquí su razonamiento: https://www.youtube.com/watch?v=G8cbIWMv0rI\n",
        ":\n"
      ]
    },
    {
      "cell_type": "markdown",
      "metadata": {
        "id": "VZ6dInVZQDTn"
      },
      "source": [
        "En este notebook vamos a explicar las matemáticas del cálculo. Primero, vamos a ver todas las herramientas matemáticas que necesitaremos, y luego las pondremos en uso en el modelo que nos permitirá hacer el cálculo.\n",
        "\n",
        "Empecemos por los básicos. Los antiguos griegos observaron que el ratio entre el perímetro y el diámetro de un círculo es el mismo para cualquier círculo. \n"
      ]
    },
    {
      "cell_type": "code",
      "metadata": {
        "colab": {
          "base_uri": "https://localhost:8080/",
          "height": 317
        },
        "id": "z7mPrUYR5FnM",
        "outputId": "b93aabea-dc80-4165-daff-c3866a463af6"
      },
      "source": [
        "#@title  { display-mode: \"form\" }\n",
        "# https://datahacker.rs/draw-lines-rectangles-circles-write-text-on-images-with-opencv-in-python/\n",
        "import cv2\n",
        "import numpy as np\n",
        "import matplotlib.pyplot as plt \n",
        "from google.colab.patches import cv2_imshow\n",
        "\n",
        "img = np.zeros((300, 300, 3), dtype=\"uint8\")\n",
        "img[:] = (255,255,255)\n",
        "font=cv2.FONT_HERSHEY_PLAIN\n",
        "\n",
        "def draw_circle(x: int,y: int,radius: int,name: str):\n",
        "  cv2.circle(img, (x,y), radius, (0,0,255), (1))\n",
        "  cv2.putText(img, \"P\" + name, (x,y - radius - 5), font, 1, (0,0,255), 1, cv2.LINE_4)\n",
        "  cv2.line(img, (x-radius,y), (x+radius,y), (255,0,0), (1))\n",
        "  cv2.putText(img,\"D\"+name, (x,y-5), font, 1, (255,0,0), 1, cv2.LINE_4)\n",
        "\n",
        "# Circle 1:\n",
        "draw_circle(50,150,50,\"1\")\n",
        "\n",
        "# Circle 2\n",
        "draw_circle(200,150,75,\"2\")\n",
        "\n",
        "cv2_imshow(img)"
      ],
      "execution_count": null,
      "outputs": [
        {
          "output_type": "display_data",
          "data": {
            "image/png": "[encoded data removed]",
            "text/plain": [
              "<PIL.Image.Image image mode=RGB size=300x300 at 0x7FA1A4A6CA90>"
            ]
          },
          "metadata": {}
        }
      ]
    },
    {
      "cell_type": "markdown",
      "metadata": {
        "id": "kIlDGxygrrO-"
      },
      "source": [
        "Para estos dos círculos 1 y 2, tenemos:"
      ]
    },
    {
      "cell_type": "code",
      "metadata": {
        "id": "JPVVyBQcQpXI",
        "colab": {
          "base_uri": "https://localhost:8080/",
          "height": 54
        },
        "outputId": "c7e09775-df40-40a3-965f-e89c7206105c"
      },
      "source": [
        "#@title  { display-mode: \"form\" }\n",
        "import sympy\n",
        "from sympy import sin, cos, tan, atan, Eq\n",
        "\n",
        "sympy.init_printing()  # for pretty printing\n",
        "\n",
        "p1, d1 = sympy.symbols(\"P1 D1\")\n",
        "p2, d2 = sympy.symbols(\"P2 D2\")\n",
        "\n",
        "ratio = Eq(p2/d2,  p1/d1)\n",
        "ratio"
      ],
      "execution_count": null,
      "outputs": [
        {
          "output_type": "execute_result",
          "data": {
            "image/png": "[encoded data removed]",
            "text/latex": "$\\displaystyle \\frac{P_{2}}{D_{2}} = \\frac{P_{1}}{D_{1}}$",
            "text/plain": [
              "P₂   P₁\n",
              "── = ──\n",
              "D₂   D₁"
            ]
          },
          "metadata": {},
          "execution_count": 147
        }
      ]
    },
    {
      "cell_type": "markdown",
      "metadata": {
        "id": "_hL-aPxQRqri"
      },
      "source": [
        "Esos antiguos griegos bautizaron este ratio con el nombre de la letra griega pi:\n"
      ]
    },
    {
      "cell_type": "code",
      "metadata": {
        "colab": {
          "base_uri": "https://localhost:8080/",
          "height": 52
        },
        "id": "R0nNHRa1RvQz",
        "outputId": "f9775ac8-5fab-48f2-faca-d429765bc874"
      },
      "source": [
        "#@title  { display-mode: \"form\" }\n",
        "r, p, d, pi = sympy.symbols(\"R P D pi\")\n",
        "Eq(pi, p/d)"
      ],
      "execution_count": null,
      "outputs": [
        {
          "output_type": "execute_result",
          "data": {
            "image/png": "[encoded data removed]",
            "text/latex": "$\\displaystyle \\pi = \\frac{P}{D}$",
            "text/plain": [
              "    P\n",
              "π = ─\n",
              "    D"
            ]
          },
          "metadata": {},
          "execution_count": 148
        }
      ]
    },
    {
      "cell_type": "markdown",
      "metadata": {
        "id": "wc9wZDn4UTgx"
      },
      "source": [
        "usando el radio en lugar del diámetro:"
      ]
    },
    {
      "cell_type": "code",
      "metadata": {
        "colab": {
          "base_uri": "https://localhost:8080/",
          "height": 52
        },
        "id": "jftnz2t2UVYs",
        "outputId": "2118d9e1-95f6-4199-88c1-f5257766c3d9"
      },
      "source": [
        "#@title  { display-mode: \"form\" }\n",
        "Eq(pi, p/(2*r))"
      ],
      "execution_count": null,
      "outputs": [
        {
          "output_type": "execute_result",
          "data": {
            "image/png": "[encoded data removed]",
            "text/latex": "$\\displaystyle \\pi = \\frac{P}{2 R}$",
            "text/plain": [
              "     P \n",
              "π = ───\n",
              "    2⋅R"
            ]
          },
          "metadata": {},
          "execution_count": 149
        }
      ]
    },
    {
      "cell_type": "markdown",
      "metadata": {
        "id": "L1DH437YU7FJ"
      },
      "source": [
        "El perímetro representa al círculo completo. Si solo consideramos una parte del círculo, un arco de círculo, el ratio entre el arco y el radio sería variable, dependiendo del tamaño del arco. El valor de esta variable oscila entre 0 (correspondiente a arco nulo) y 2pi (correspondiente al arco igual a todo el perímetro del círculo) Denotamos ese ratio como alpha:"
      ]
    },
    {
      "cell_type": "code",
      "metadata": {
        "colab": {
          "base_uri": "https://localhost:8080/",
          "height": 52
        },
        "id": "zIjvlrdqVhkc",
        "cellView": "form",
        "outputId": "f76c4c9a-9f2b-46fc-cf42-e00964efe311"
      },
      "source": [
        "#@title (1)\n",
        "#@title  { display-mode: \"form\" }\n",
        "a, alpha = sympy.symbols(\"A alpha\")\n",
        "Eq( alpha, a/r)"
      ],
      "execution_count": null,
      "outputs": [
        {
          "output_type": "execute_result",
          "data": {
            "image/png": "[encoded data removed]",
            "text/latex": "$\\displaystyle \\alpha = \\frac{A}{R}$",
            "text/plain": [
              "    A\n",
              "α = ─\n",
              "    R"
            ]
          },
          "metadata": {},
          "execution_count": 150
        }
      ]
    },
    {
      "cell_type": "code",
      "metadata": {
        "colab": {
          "base_uri": "https://localhost:8080/",
          "height": 217
        },
        "id": "9ebQ9fh6y9B8",
        "outputId": "957ff70e-0b3d-4bbe-cd8f-b0e9d57b0508"
      },
      "source": [
        "#@title  { display-mode: \"form\" }\n",
        "img = np.zeros((200, 300, 3), dtype=\"uint8\")\n",
        "img[:] = (255,255,255)\n",
        "font=cv2.FONT_HERSHEY_PLAIN\n",
        "\n",
        "def draw_arc(x: int,y: int,radius: int,angle: int,name: str=\"\", display: int=0):\n",
        "  \n",
        "  cv2.ellipse(img, (x,y), (radius,radius), 0, 0, -angle, (0,0,255), (1))\n",
        "  if display:\n",
        "    cv2.ellipse(img, (x,y), (int(radius/4),int(radius/4)), 0, 0, -angle, (0,255,0), (1))\n",
        "    cv2.putText(img,\"alpha\", (x+25,y-10), font, 0.7, (0,255,0), 1, cv2.LINE_4)\n",
        "\n",
        "  cv2.line(img, (x,y), (x+radius,y), (255,0,0), (1))\n",
        "  cv2.putText(img,\"R\"+name, (x+int(2*radius/3),y-5), font, 1, (255,0,0), 1, cv2.LINE_4)\n",
        "\n",
        "  import math\n",
        "  import numpy as np\n",
        "  c1 = int(math.cos(angle*(np.pi/180)) * radius)\n",
        "  c2 = int(math.sqrt((radius**2 - c1**2)))\n",
        "  cv2.line(img, (x,y), (x+c1,y-c2), (255,0,0), (1))\n",
        "  cv2.putText(img,\"R\"+name, (x+int(c1/3),y-int(2*c2/3)), font, 1, (255,0,0), 1, cv2.LINE_4)\n",
        "\n",
        "  cv2.putText(img,\"A\"+name, (x+radius,y-int(c2/2)), font, 1, (0,0,255), 1, cv2.LINE_4)\n",
        "\n",
        "  return (x+c1,y-c2)\n",
        "\n",
        "draw_arc(100,150,100,60)\n",
        "\n",
        "\n",
        "\n",
        "cv2_imshow(img)"
      ],
      "execution_count": null,
      "outputs": [
        {
          "output_type": "display_data",
          "data": {
            "image/png": "[encoded data removed]",
            "text/plain": [
              "<PIL.Image.Image image mode=RGB size=300x200 at 0x7FA1A4AC9210>"
            ]
          },
          "metadata": {}
        }
      ]
    },
    {
      "cell_type": "markdown",
      "metadata": {
        "id": "Ar8hjJt2anE-"
      },
      "source": [
        "Por otro lado, un arco queda definido por dos puntos en el perímetro del círculo. Esos dos puntos pueden ser unidos al centro del círculo mediante dos radios, que formarán un ángulo entre ellos. Si llevamos este mismo ángulo a otro círculo de diferente radio para definir el correspondiente arco, el ratio entre este nuevo arco y su radio será el mismo que el ratio entre el arco y radio del círculo original! "
      ]
    },
    {
      "cell_type": "code",
      "metadata": {
        "colab": {
          "base_uri": "https://localhost:8080/",
          "height": 317
        },
        "id": "GhbuRCj4VNXy",
        "outputId": "3c01aad1-8928-43a7-b03d-434ce9c952a3"
      },
      "source": [
        "#@title  { display-mode: \"form\" }\n",
        "img = np.zeros((300, 300, 3), dtype=\"uint8\")\n",
        "img[:] = (255,255,255)\n",
        "font=cv2.FONT_HERSHEY_PLAIN\n",
        "\n",
        "\n",
        "draw_arc(50,250,100,60,\"1\")\n",
        "draw_arc(50,250,200,60,\"2\")\n",
        "cv2_imshow(img)"
      ],
      "execution_count": null,
      "outputs": [
        {
          "output_type": "display_data",
          "data": {
            "image/png": "[encoded data removed]",
            "text/plain": [
              "<PIL.Image.Image image mode=RGB size=300x300 at 0x7FEF509C07D0>"
            ]
          },
          "metadata": {}
        }
      ]
    },
    {
      "cell_type": "code",
      "metadata": {
        "colab": {
          "base_uri": "https://localhost:8080/",
          "height": 54
        },
        "id": "SYma305FVnrp",
        "outputId": "c1aa5d62-92ff-4a01-cea4-e3853be9d949"
      },
      "source": [
        "#@title  { display-mode: \"form\" }\n",
        "a1, r1 = sympy.symbols(\"A1 R1\")\n",
        "a2, r2 = sympy.symbols(\"A2 R2\")\n",
        "\n",
        "Eq(a1/r1, a2/r2)"
      ],
      "execution_count": null,
      "outputs": [
        {
          "output_type": "execute_result",
          "data": {
            "image/png": "[encoded data removed]",
            "text/latex": "$\\displaystyle \\frac{A_{1}}{R_{1}} = \\frac{A_{2}}{R_{2}}$",
            "text/plain": [
              "A₁   A₂\n",
              "── = ──\n",
              "R₁   R₂"
            ]
          },
          "metadata": {},
          "execution_count": 9
        }
      ]
    },
    {
      "cell_type": "markdown",
      "metadata": {
        "id": "tHRsLzr1-ovX"
      },
      "source": [
        "Esto significa que, en el caso de un círculo, un ángulo entre dos radios puede ser definido como el ratio entre el arco definidos por esos dos radios, y el valor del radio.\n"
      ]
    },
    {
      "cell_type": "code",
      "metadata": {
        "colab": {
          "base_uri": "https://localhost:8080/",
          "height": 52
        },
        "id": "A9ThqFHw_0li",
        "outputId": "32cfd921-9ec3-4749-db4a-98df3a53bef8"
      },
      "source": [
        "#@title  { display-mode: \"form\" }\n",
        "Eq(alpha, a/r)"
      ],
      "execution_count": null,
      "outputs": [
        {
          "output_type": "execute_result",
          "data": {
            "image/png": "[encoded data removed]",
            "text/latex": "$\\displaystyle \\alpha = \\frac{A}{R}$",
            "text/plain": [
              "    A\n",
              "α = ─\n",
              "    R"
            ]
          },
          "metadata": {},
          "execution_count": 10
        }
      ]
    },
    {
      "cell_type": "code",
      "metadata": {
        "colab": {
          "base_uri": "https://localhost:8080/",
          "height": 217
        },
        "id": "wgz4bc5Ndi7N",
        "outputId": "ebe45402-3f30-43cc-e22b-96408d6dc833"
      },
      "source": [
        "#@title  { display-mode: \"form\" }\n",
        "img = np.zeros((200, 300, 3), dtype=\"uint8\")\n",
        "img[:] = (255,255,255)\n",
        "font=cv2.FONT_HERSHEY_PLAIN\n",
        "\n",
        "\n",
        "draw_arc(50,150,100,60,\"\", 1)\n",
        "cv2_imshow(img)"
      ],
      "execution_count": null,
      "outputs": [
        {
          "output_type": "display_data",
          "data": {
            "image/png": "[encoded data removed]",
            "text/plain": [
              "<PIL.Image.Image image mode=RGB size=300x200 at 0x7FA1A4A6C8D0>"
            ]
          },
          "metadata": {}
        }
      ]
    },
    {
      "cell_type": "markdown",
      "metadata": {
        "id": "h0KZT7l0CtVW"
      },
      "source": [
        "El valor del ángulo oscilará entre 0 (nulo) y 2pi (correspondiente a todo el perímetro del círculo), y las unidades empleadas son los radianes. Como los ángulos también pueden ser medidos en grados, con valores oscilando entre 0 (nulo) y 360 (correspondiente a todo el perímetro del círculo), la conversión entre grados y radianes es:"
      ]
    },
    {
      "cell_type": "code",
      "metadata": {
        "colab": {
          "base_uri": "https://localhost:8080/",
          "height": 51
        },
        "id": "FrCpiVKObW0e",
        "outputId": "2f1f18dd-6cad-4ee4-f931-9ba63771eaf4"
      },
      "source": [
        "#@title (4)\n",
        "#@title  { display-mode: \"form\" }\n",
        "alpha_g, alpha_r = sympy.symbols(\"alpha_g alpha_r\")\n",
        "Eq  (alpha_g, alpha_r*(180/pi))"
      ],
      "execution_count": null,
      "outputs": [
        {
          "output_type": "execute_result",
          "data": {
            "image/png": "[encoded data removed]",
            "text/latex": "$\\displaystyle \\alpha_{g} = \\frac{180 \\alpha_{r}}{\\pi}$",
            "text/plain": [
              "      180⋅αᵣ\n",
              "α_g = ──────\n",
              "        π   "
            ]
          },
          "metadata": {},
          "execution_count": 151
        }
      ]
    },
    {
      "cell_type": "markdown",
      "metadata": {
        "id": "Xh7Ptv2g1jbx"
      },
      "source": [
        ""
      ]
    },
    {
      "cell_type": "markdown",
      "metadata": {
        "id": "8FJsUtpAoMR_"
      },
      "source": [
        "---\n",
        "Los griegos también definieron dos ratios en un triángulo rectángulo: \n",
        "\n"
      ]
    },
    {
      "cell_type": "code",
      "metadata": {
        "colab": {
          "base_uri": "https://localhost:8080/",
          "height": 117
        },
        "id": "2fqKFKs_JHNX",
        "outputId": "ed0705ca-de1c-4909-92b5-1a4d373c44f9"
      },
      "source": [
        "#@title  { display-mode: \"form\" }\n",
        "img = np.zeros((100, 300, 3), dtype=\"uint8\")\n",
        "img[:] = (255,255,255)\n",
        "font=cv2.FONT_HERSHEY_PLAIN\n",
        "\n",
        "def draw_triangle(x: int, y: int, a: int, b: int):\n",
        "  pts = np.array([[x, y], [x+b, y], [x+b, y-a]], np.int32)\n",
        "  # Creating a blue triangle\n",
        "  cv2.polylines(img, [pts], True, (255,0,0), 1)\n",
        "  cv2.putText(img,\"b\", (x+int(b/2),y+15), font, 1, (255,0,0), 1, cv2.LINE_4)\n",
        "  cv2.putText(img,\"a\", (x+b+5,(y-a) + int(a/2)), font, 1, (255,0,0), 1, cv2.LINE_4)\n",
        "  cv2.putText(img,\"c\", (x+int(b/2)-10,y-int(a/2)), font, 1, (255,0,0), 1, cv2.LINE_4)\n",
        "\n",
        "  import math\n",
        "  angle = math.asin(a/math.sqrt(a*+2 + b**2)) * 180 / np.pi\n",
        "  cv2.ellipse(img, (x,y), (int(b/5),int(b/5)), 0, 0, -angle, (0,255,0), (1))\n",
        "  cv2.putText(img,\"alpha\", (x+25,y-5), font, 0.7, (0,255,0), 1, cv2.LINE_4)\n",
        "\n",
        "draw_triangle(50,75,50,100)\n",
        "cv2_imshow(img)"
      ],
      "execution_count": 152,
      "outputs": [
        {
          "output_type": "display_data",
          "data": {
            "image/png": "[encoded data removed]",
            "text/plain": [
              "<PIL.Image.Image image mode=RGB size=300x100 at 0x7FA1A49B3B50>"
            ]
          },
          "metadata": {}
        }
      ]
    },
    {
      "cell_type": "markdown",
      "metadata": {
        "id": "yQ5VZqRbJLvD"
      },
      "source": [
        "Definieron como seno de un ángulo al ratio entre el cateto opuesto al ángulo (a) y la hipotenusa (c), y como coseno del ángulo al ratio entre el cateto adyacente (b) al ángulo y la hipotenusa (c). Porqué? porque este ratio es contante para todos los triángulos rectángulos definidos a partir de ese ángulo."
      ]
    },
    {
      "cell_type": "code",
      "metadata": {
        "colab": {
          "base_uri": "https://localhost:8080/",
          "height": 47
        },
        "id": "VCDOpv1DpMSG",
        "outputId": "f90bff91-c193-4a8b-f79f-1865d0d03dde"
      },
      "source": [
        "#@title  { display-mode: \"form\" }\n",
        "a, b, c = sympy.symbols(\"a b c\")\n",
        "\n",
        "Eq(sin(alpha), a/c)\n"
      ],
      "execution_count": null,
      "outputs": [
        {
          "output_type": "execute_result",
          "data": {
            "image/png": "[encoded data removed]",
            "text/latex": "$\\displaystyle \\sin{\\left(\\alpha \\right)} = \\frac{a}{c}$",
            "text/plain": [
              "         a\n",
              "sin(α) = ─\n",
              "         c"
            ]
          },
          "metadata": {},
          "execution_count": 119
        }
      ]
    },
    {
      "cell_type": "code",
      "metadata": {
        "colab": {
          "base_uri": "https://localhost:8080/",
          "height": 52
        },
        "id": "dG-xwYK5peMQ",
        "outputId": "b29fc3c4-2119-4553-9ce5-b013add6a54b"
      },
      "source": [
        "#@title  { display-mode: \"form\" }\n",
        "Eq(cos(alpha), b/c)"
      ],
      "execution_count": null,
      "outputs": [
        {
          "output_type": "execute_result",
          "data": {
            "image/png": "[encoded data removed]",
            "text/latex": "$\\displaystyle \\cos{\\left(\\alpha \\right)} = \\frac{b}{c}$",
            "text/plain": [
              "         b\n",
              "cos(α) = ─\n",
              "         c"
            ]
          },
          "metadata": {},
          "execution_count": 14
        }
      ]
    },
    {
      "cell_type": "code",
      "metadata": {
        "colab": {
          "base_uri": "https://localhost:8080/",
          "height": 57
        },
        "id": "qXGkpFIPheWw",
        "outputId": "d113f2c6-f453-4175-f879-93d3785e5b0c"
      },
      "source": [
        "#@title  { display-mode: \"form\" }\n",
        "Eq(sin(alpha)/cos(alpha), a/b)"
      ],
      "execution_count": null,
      "outputs": [
        {
          "output_type": "execute_result",
          "data": {
            "image/png": "[encoded data removed]",
            "text/latex": "$\\displaystyle \\frac{\\sin{\\left(\\alpha \\right)}}{\\cos{\\left(\\alpha \\right)}} = \\frac{a}{b}$",
            "text/plain": [
              "sin(α)   a\n",
              "────── = ─\n",
              "cos(α)   b"
            ]
          },
          "metadata": {},
          "execution_count": 124
        }
      ]
    },
    {
      "cell_type": "markdown",
      "metadata": {
        "id": "Eu2vPjIiluFm"
      },
      "source": [
        "Al ratio entre seno y coseno se le conoce como tangente:"
      ]
    },
    {
      "cell_type": "code",
      "metadata": {
        "colab": {
          "base_uri": "https://localhost:8080/",
          "height": 47
        },
        "cellView": "form",
        "id": "bopAF4kYiJtE",
        "outputId": "5a27ec68-c3e0-43b0-99d7-c88ec1733c33"
      },
      "source": [
        "#@title (2)\n",
        "#@title  { display-mode: \"form\" }\n",
        "Eq(tan(alpha), a/b)"
      ],
      "execution_count": null,
      "outputs": [
        {
          "output_type": "execute_result",
          "data": {
            "image/png": "[encoded data removed]",
            "text/latex": "$\\displaystyle \\tan{\\left(\\alpha \\right)} = \\frac{a}{b}$",
            "text/plain": [
              "         a\n",
              "tan(α) = ─\n",
              "         b"
            ]
          },
          "metadata": {},
          "execution_count": 125
        }
      ]
    },
    {
      "cell_type": "markdown",
      "metadata": {
        "id": "JciZ4vBvp_Ls"
      },
      "source": [
        "Con este conocimiento, es sencillo probar fórmulas trigronométricas como:"
      ]
    },
    {
      "cell_type": "code",
      "metadata": {
        "colab": {
          "base_uri": "https://localhost:8080/",
          "height": 38
        },
        "id": "IkXzWWHdqKyQ",
        "outputId": "4fafbde3-02ae-4663-9ea5-c25b99ed4ea9"
      },
      "source": [
        "#@title  { display-mode: \"form\" }\n",
        "Eq(sin(alpha)**2 + cos(alpha)**2, 1)"
      ],
      "execution_count": null,
      "outputs": [
        {
          "output_type": "execute_result",
          "data": {
            "image/png": "[encoded data removed]",
            "text/latex": "$\\displaystyle \\sin^{2}{\\left(\\alpha \\right)} + \\cos^{2}{\\left(\\alpha \\right)} = 1$",
            "text/plain": [
              "   2         2       \n",
              "sin (α) + cos (α) = 1"
            ]
          },
          "metadata": {},
          "execution_count": 16
        }
      ]
    },
    {
      "cell_type": "markdown",
      "metadata": {
        "id": "_zfnN00gqTKP"
      },
      "source": [
        "Sustituyendo seno y coseno por su definición en ratios:"
      ]
    },
    {
      "cell_type": "code",
      "metadata": {
        "colab": {
          "base_uri": "https://localhost:8080/",
          "height": 54
        },
        "id": "qAbptYb-qW2e",
        "outputId": "bcec8d95-4511-4982-bc01-ff576b247128"
      },
      "source": [
        "#@title  { display-mode: \"form\" }\n",
        "Eq((a/c)**2 + (b/c)**2, 1)"
      ],
      "execution_count": null,
      "outputs": [
        {
          "output_type": "execute_result",
          "data": {
            "image/png": "[encoded data removed]",
            "text/latex": "$\\displaystyle \\frac{a^{2}}{c^{2}} + \\frac{b^{2}}{c^{2}} = 1$",
            "text/plain": [
              " 2    2    \n",
              "a    b     \n",
              "── + ── = 1\n",
              " 2    2    \n",
              "c    c     "
            ]
          },
          "metadata": {},
          "execution_count": 17
        }
      ]
    },
    {
      "cell_type": "markdown",
      "metadata": {
        "id": "QvXWR_-SqfkE"
      },
      "source": [
        "quedando:"
      ]
    },
    {
      "cell_type": "code",
      "metadata": {
        "colab": {
          "base_uri": "https://localhost:8080/",
          "height": 38
        },
        "id": "nxfqqvf3qhq0",
        "outputId": "67b29bd8-7c91-4038-923d-5a936a5c3289"
      },
      "source": [
        "#@title (3) Teorema de Pitágoras { display-mode: \"form\" }\n",
        "Eq(a**2 + b**2, c**2)"
      ],
      "execution_count": null,
      "outputs": [
        {
          "output_type": "execute_result",
          "data": {
            "image/png": "[encoded data removed]",
            "text/latex": "$\\displaystyle a^{2} + b^{2} = c^{2}$",
            "text/plain": [
              " 2    2    2\n",
              "a  + b  = c "
            ]
          },
          "metadata": {},
          "execution_count": 18
        }
      ]
    },
    {
      "cell_type": "markdown",
      "metadata": {
        "id": "istKly9xqmS7"
      },
      "source": [
        "lo que corresponde al teorema de Pitágonas, por lo que si demostramos este teorema, entonces queda demostrada también la fórmula trigronométrica. Es decir, hemos **reducido** la prueba de esa fórmula trigronométrica a la prueba del teorema de Pitágoras. \n",
        "\n",
        "Usaremos una prueba gráfica para el teorema de Pitágoras, cogiendo 4 triángulos rectángulos iguales y colocándolos en un plano de la siguiente forma:"
      ]
    },
    {
      "cell_type": "code",
      "metadata": {
        "id": "FeAhNhXLq9xJ",
        "colab": {
          "base_uri": "https://localhost:8080/",
          "height": 317
        },
        "outputId": "ee100cbe-eff9-4154-e9a0-480c2fbd842d"
      },
      "source": [
        "#@title  { display-mode: \"form\" }\n",
        "img = np.zeros((300, 300, 3), dtype=\"uint8\")\n",
        "img[:] = (255,255,255)\n",
        "font=cv2.FONT_HERSHEY_PLAIN\n",
        "\n",
        "x=100\n",
        "y=200\n",
        "a=50\n",
        "b=100\n",
        "pts = np.array([[x, y], [x+b, y], [x+b, y-a]], np.int32)\n",
        "cv2.polylines(img, [pts], True, (255,0,0), 1)\n",
        "\n",
        "pts = np.array([[x, y], [x-a, y], [x-a, y-b]], np.int32)\n",
        "cv2.polylines(img, [pts], True, (255,0,0), 1)\n",
        "\n",
        "pts = np.array([[x-a, y-b], [x-a, y-b-a], [x-a+b, y-b-a]], np.int32)\n",
        "cv2.polylines(img, [pts], True, (255,0,0), 1)\n",
        "\n",
        "pts = np.array([[x+b, y-a], [x+b, y-a-b], [x+b-a, y-a-b]], np.int32)\n",
        "cv2.polylines(img, [pts], True, (255,0,0), 1)\n",
        "\n",
        "cv2.putText(img,\"a\", (x-int(a/2),y+15), font, 1, (255,0,0), 1, cv2.LINE_4)\n",
        "cv2.putText(img,\"b\", (x+int(b/2),y+15), font, 1, (255,0,0), 1, cv2.LINE_4)\n",
        "cv2.putText(img,\"c\", (x+int(b/2),y-int(2*a/3)), font, 1, (255,0,0), 1, cv2.LINE_4)\n",
        "\n",
        "cv2.putText(img,\"b\", (x-a-15,y-int(b/2)), font, 1, (255,0,0), 1, cv2.LINE_4)\n",
        "cv2.putText(img,\"a\", (x-a-15,y-b-int(a/2)), font, 1, (255,0,0), 1, cv2.LINE_4)\n",
        "cv2.putText(img,\"c\", (x-int(a/2),y-int(b/2)), font, 1, (255,0,0), 1, cv2.LINE_4)\n",
        "\n",
        "cv2.putText(img,\"a\", (x+b+10,y-int(a/2)), font, 1, (255,0,0), 1, cv2.LINE_4)\n",
        "cv2.putText(img,\"b\", (x+b+10,y-a-int(b/2)), font, 1, (255,0,0), 1, cv2.LINE_4)\n",
        "cv2.putText(img,\"c\", (x-int(a/2),y-b), font, 1, (255,0,0), 1, cv2.LINE_4)\n",
        "\n",
        "\n",
        "cv2.putText(img,\"b\", (x-a+int(b/2),y-a-b-5), font, 1, (255,0,0), 1, cv2.LINE_4)\n",
        "cv2.putText(img,\"a\", (x+b-int(a/2),y-a-b-5), font, 1, (255,0,0), 1, cv2.LINE_4)\n",
        "cv2.putText(img,\"c\", (x+int(b/2),y-b), font, 1, (255,0,0), 1, cv2.LINE_4)\n",
        "\n",
        "cv2_imshow(img)"
      ],
      "execution_count": null,
      "outputs": [
        {
          "output_type": "display_data",
          "data": {
            "image/png": "[encoded data removed]",
            "text/plain": [
              "<PIL.Image.Image image mode=RGB size=300x300 at 0x7FCA198A5490>"
            ]
          },
          "metadata": {}
        }
      ]
    },
    {
      "cell_type": "markdown",
      "metadata": {
        "id": "KnEGWf3viEox"
      },
      "source": [
        "Vemos que el polígono exterior es un cuadrado por tener cuatro lados iguales (de longitud a+b) y por tener cuatro ángulos rectos (uno por cada triángulo rectángulo).\n",
        "\n",
        "Considerando dos proposiciones del [Libro I](https://www.c82.net/euclid/es/book1/) de Euclides:\n",
        "\n",
        "1.   [Proposición XXXII](https://www.c82.net/euclid/es/book1/#prop32): Los ángulos de un triángulo suman 180 grados (o dos ángulos rectos)\n",
        "2.   [Proposición XIII](https://www.c82.net/euclid/es/book1/#prop15): El ángulo entre dos puntos de una recta es 180 grados (o dos ángulos rectos)\n",
        "\n",
        "Podemos confirmar también que el polígono inscrito en el cuadrado de lado a+b es a su vez un cuadrado de lado c, pues tiene 4 ángulos de 90 grados (debido a #1 y #2) y también los cuatro lados iguales (de longitud c). Con ello, podemos igualar el área del cuadrado de lado a+b con el área de los 4 triángulos y el cuadrado de lado c inscritos en él:\n",
        "\n"
      ]
    },
    {
      "cell_type": "code",
      "metadata": {
        "colab": {
          "base_uri": "https://localhost:8080/",
          "height": 39
        },
        "id": "yuFi3NxZi1oo",
        "outputId": "76eddd90-3f70-44ab-e2df-4b7f0e548ad8"
      },
      "source": [
        "#@title  { display-mode: \"form\" }\n",
        "Eq((a+b)**2, c**2 + 4*(a*b/2))"
      ],
      "execution_count": null,
      "outputs": [
        {
          "output_type": "execute_result",
          "data": {
            "image/png": "[encoded data removed]",
            "text/latex": "$\\displaystyle \\left(a + b\\right)^{2} = 2 a b + c^{2}$",
            "text/plain": [
              "       2            2\n",
              "(a + b)  = 2⋅a⋅b + c "
            ]
          },
          "metadata": {},
          "execution_count": 126
        }
      ]
    },
    {
      "cell_type": "markdown",
      "metadata": {
        "id": "94hWZFnXjW2_"
      },
      "source": [
        "Desarrollando:"
      ]
    },
    {
      "cell_type": "code",
      "metadata": {
        "colab": {
          "base_uri": "https://localhost:8080/",
          "height": 38
        },
        "id": "YKaVcCYRjYgN",
        "outputId": "748222fc-cee9-450e-ac64-247bd19bd025"
      },
      "source": [
        "#@title  { display-mode: \"form\" }\n",
        "Eq(a**2+b**2,c**2)"
      ],
      "execution_count": null,
      "outputs": [
        {
          "output_type": "execute_result",
          "data": {
            "image/png": "[encoded data removed]",
            "text/latex": "$\\displaystyle a^{2} + b^{2} = c^{2}$",
            "text/plain": [
              " 2    2    2\n",
              "a  + b  = c "
            ]
          },
          "metadata": {},
          "execution_count": 128
        }
      ]
    },
    {
      "cell_type": "markdown",
      "metadata": {
        "id": "cHKo5yFWjhOO"
      },
      "source": [
        "**[QED](https://es.wikipedia.org/wiki/Quod_erat_demonstrandum)**, tanto para el teorema de Pitágoras como para la fómula trigronométrica de suma de cuadrados de seno y coseno sea igual a 1\n"
      ]
    },
    {
      "cell_type": "markdown",
      "metadata": {
        "id": "wz1V-IAhjjGM"
      },
      "source": [
        "---\n",
        "Tenemos ya las herramientas necesarias para poder determinar el radio de la Tierra. Creando un modelo gráfico a partir de la explicación de Carl Sagan:"
      ]
    },
    {
      "cell_type": "code",
      "metadata": {
        "colab": {
          "base_uri": "https://localhost:8080/",
          "height": 317
        },
        "id": "gDnRZXAwHKm9",
        "outputId": "6726bf87-26d7-47bf-d55e-e09064d9c1ff"
      },
      "source": [
        "#@title  { display-mode: \"form\" }\n",
        "img = np.zeros((300, 800, 3), dtype=\"uint8\")\n",
        "img[:] = (255,255,255)\n",
        "font=cv2.FONT_HERSHEY_PLAIN\n",
        "\n",
        "x=50\n",
        "y=200\n",
        "sun_distance = 800\n",
        "radius = 200\n",
        "pole_height=80\n",
        "angle=60\n",
        "\n",
        "from typing import Tuple\n",
        "def draw_arc2(x: int,y: int,radius: int,angle: int, color: Tuple[int,int,int], display: int=0, text: str=\"\"):\n",
        "  \n",
        "  cv2.ellipse(img, (x,y), (radius,radius), 0, 0, -angle, color, (1))\n",
        "  if display:\n",
        "    cv2.ellipse(img, (x,y), (int(radius/4),int(radius/4)), 0, 0, -angle, (0,255,0), (1))\n",
        "    cv2.putText(img,\"alpha\"+text, (x+25,y-10), font, 0.7, (0,255,0), 1, cv2.LINE_4)\n",
        "\n",
        "  cv2.line(img, (x,y), (x+radius,y), (255,0,0), (1))\n",
        "\n",
        "  import math\n",
        "  import numpy as np\n",
        "  c1 = int(math.cos(angle*(np.pi/180)) * radius)\n",
        "  c2 = int(math.sqrt((radius**2 - c1**2)))\n",
        "  cv2.line(img, (x,y), (x+c1,y-c2), (255,0,0), (1))\n",
        "\n",
        "  return (x+c1,y-c2)\n",
        "\n",
        "\n",
        "\n",
        "cv2.ellipse(img, (x,y), (radius,radius), 0, 0, -angle, (0,0,255), (1))\n",
        "(x2,y2) = draw_arc2(x,y,radius, 30, (0,0,255),1,\"1\")\n",
        "(x3,y3) = draw_arc2(x,y,radius+pole_height, 30, (255,255,255))\n",
        "draw_arc2(x3,y3,radius+pole_height, 30, (255,255,255),1,\"2\")\n",
        "\n",
        "#sun rays\n",
        "cv2.line(img, (x+sun_distance,y), (x+radius,y), (0,200,255), (1))\n",
        "cv2.line(img, (x+sun_distance,y3), (x3-int(radius/2),y3), (0,200,255), (1))\n",
        "\n",
        "#poles\n",
        "cv2.line(img, (x+radius+pole_height,y), (x+radius,y), (0,0,0), (3))\n",
        "cv2.line(img, (x2,y2), (x3,y3), (0,0,0), (3))\n",
        "\n",
        "\n",
        "cv2.putText(img,\"h\", (x2+int((x3-x2)/2),y2-int((y2-y3)/8)), font, 1, (0,0,0), 1, cv2.LINE_4)\n",
        "cv2.putText(img,\"h\", (x2+int((x3-x2)/2),y+20), font, 1, (0,0,0), 1, cv2.LINE_4)\n",
        "cv2.putText(img,\"d\", (x2+int((x3-x2)/2),y-int((y-y2)/2)), font, 1, (0,0,255), 1, cv2.LINE_4)\n",
        "cv2.putText(img,\"s\", (x2-30,y2-int((y2-y3)/8)), font, 1, (0,0,255), 1, cv2.LINE_4)\n",
        "cv2.putText(img,\"alpha3\", (x2+int((x3-x2)/5),y3+10), font, 0.7, (0,255,0), 1, cv2.LINE_4)\n",
        "cv2.putText(img,\"R\", (x+int(radius/2),y+20), font, 1, (255,0,0), 1, cv2.LINE_4)\n",
        "\n",
        "\n",
        "cv2_imshow(img)"
      ],
      "execution_count": null,
      "outputs": [
        {
          "output_type": "display_data",
          "data": {
            "image/png": "[encoded data removed]",
            "text/plain": [
              "<PIL.Image.Image image mode=RGB size=800x300 at 0x7FA1A4A6CC90>"
            ]
          },
          "metadata": {}
        }
      ]
    },
    {
      "cell_type": "markdown",
      "metadata": {
        "id": "Au7keX36ghB1"
      },
      "source": [
        "Donde:  \n",
        "\n",
        "*   El arco rojo es la superficie de la Tierra de radio **R**,\n",
        "*   Las lineas amarillas son los rayos de sol. Se puede asumir que son paralelos porque la distancia entre el Sol y la Tierra es mucho más grande que la distancia entre obeliscos.\n",
        "*   **h** es la altura de los dos obeliscos\n",
        "*   **s** es la sombra que hace el obelisco en Alejandría (en \"Sahin\", en el ecuador, la sombra es nula el 21 de Junio, durante el solsticio de verano)\n",
        "*   **d** es la distancia entre los dos obeliscos, i.e., la distancia entre Alexandria y \"Sahin\"\n"
      ]
    },
    {
      "cell_type": "markdown",
      "metadata": {
        "id": "WlL1oV40faz0"
      },
      "source": [
        "Resulta que alpha2 y alpha3 son el mismo ángulo por la [proposición XV](https://www.c82.net/euclid/es/book1/#prop15) del Libro I de Euclides, y alpha1 y alpha3 son el mismo ángulo por la [proposición XXIX](https://www.c82.net/euclid/es/book1/#prop29) del Libro I de Euclides."
      ]
    },
    {
      "cell_type": "markdown",
      "metadata": {
        "id": "qPLDEP4djGWe"
      },
      "source": [
        "Asumiendo que el triángulo formado por **s** y **h** es un triángulo rectángulo (en un espacio pequeño, se puede considerar la superficie de la tierra como plana -y por tanto **s** como una linea recta-, y el obelisco -recto de por si- se puede clavar perpendicular al suelo), usando **(2)** tenemos:"
      ]
    },
    {
      "cell_type": "code",
      "metadata": {
        "colab": {
          "base_uri": "https://localhost:8080/",
          "height": 47
        },
        "id": "0k7vtDiuiSif",
        "outputId": "315b81d7-db3b-46a0-b49d-e51c51be01d1"
      },
      "source": [
        "#@title  { display-mode: \"form\" }\n",
        "s, h, d, R = sympy.symbols(\"s h d R\")\n",
        "Eq(tan(alpha), s/h)"
      ],
      "execution_count": null,
      "outputs": [
        {
          "output_type": "execute_result",
          "data": {
            "image/png": "[encoded data removed]",
            "text/latex": "$\\displaystyle \\tan{\\left(\\alpha \\right)} = \\frac{s}{h}$",
            "text/plain": [
              "         s\n",
              "tan(α) = ─\n",
              "         h"
            ]
          },
          "metadata": {},
          "execution_count": 135
        }
      ]
    },
    {
      "cell_type": "markdown",
      "metadata": {
        "id": "HzF6TwqYjqiL"
      },
      "source": [
        "Es decir, que el ángulo alpha (en radianes) es:"
      ]
    },
    {
      "cell_type": "code",
      "metadata": {
        "colab": {
          "base_uri": "https://localhost:8080/",
          "height": 48
        },
        "id": "tF8U9L-pjmb6",
        "outputId": "33efa6df-92ad-44f5-85e6-b41970f309ce"
      },
      "source": [
        "#@title  { display-mode: \"form\" }\n",
        "Eq(alpha, atan(s/h))"
      ],
      "execution_count": null,
      "outputs": [
        {
          "output_type": "execute_result",
          "data": {
            "image/png": "[encoded data removed]",
            "text/latex": "$\\displaystyle \\alpha = \\operatorname{atan}{\\left(\\frac{s}{h} \\right)}$",
            "text/plain": [
              "        ⎛s⎞\n",
              "α = atan⎜─⎟\n",
              "        ⎝h⎠"
            ]
          },
          "metadata": {},
          "execution_count": 136
        }
      ]
    },
    {
      "cell_type": "markdown",
      "metadata": {
        "id": "0uTb4I5njwXx"
      },
      "source": [
        "Y dado que alpha es también el ratio en el radio **R** y el arco **d**, usamos **(1)** para obtener el radio deseado:\n",
        "\n"
      ]
    },
    {
      "cell_type": "code",
      "metadata": {
        "colab": {
          "base_uri": "https://localhost:8080/",
          "height": 52
        },
        "id": "PqkME-HYigez",
        "outputId": "d961a000-ef31-4704-e9e8-564d4826daf4"
      },
      "source": [
        "#@title  { display-mode: \"form\" }\n",
        "Eq(R, d/alpha)"
      ],
      "execution_count": null,
      "outputs": [
        {
          "output_type": "execute_result",
          "data": {
            "image/png": "[encoded data removed]",
            "text/latex": "$\\displaystyle R = \\frac{d}{\\alpha}$",
            "text/plain": [
              "    d\n",
              "R = ─\n",
              "    α"
            ]
          },
          "metadata": {},
          "execution_count": 137
        }
      ]
    },
    {
      "cell_type": "markdown",
      "metadata": {
        "id": "wgvyOvs-1lBE"
      },
      "source": [
        "Carl Sagan menciona que la distancia d entre Alexandria y \"Sahin\" son 800km, y que el ángulo alpha que calculó Erastótenes era de 7 grados. Usando **(4)** para pasar de radianes a grados, y sustituyendo en esta formula para **R**, tenemos:"
      ]
    },
    {
      "cell_type": "code",
      "metadata": {
        "colab": {
          "base_uri": "https://localhost:8080/",
          "height": 38
        },
        "id": "TfmU4Ltf131F",
        "outputId": "b304f2d0-b364-4214-c167-f23ff66663f4"
      },
      "source": [
        "#@title  { display-mode: \"form\" }\n",
        "eq = Eq(R,800/(7*np.pi/180))\n",
        "eq"
      ],
      "execution_count": 160,
      "outputs": [
        {
          "output_type": "execute_result",
          "data": {
            "image/png": "[encoded data removed]",
            "text/latex": "$\\displaystyle R = 6548.08908720941$",
            "text/plain": [
              "R = 6548.08908720941"
            ]
          },
          "metadata": {},
          "execution_count": 160
        }
      ]
    },
    {
      "cell_type": "markdown",
      "metadata": {
        "id": "iUFKF9aD3DZY"
      },
      "source": [
        "6548 km, cuando el radio correcto es 6371 km. Un error del 2.8%. No está nada mal para un cálculo hecho hace 22 siglos!"
      ]
    }
  ]
}