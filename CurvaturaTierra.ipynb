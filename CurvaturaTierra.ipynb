{
  "nbformat": 4,
  "nbformat_minor": 0,
  "metadata": {
    "colab": {
      "name": "CurvaturaTierra.ipynb",
      "provenance": [],
      "authorship_tag": "ABX9TyPM9s7ACXqQJS/LM3U8Skox",
      "include_colab_link": true
    },
    "kernelspec": {
      "name": "python3",
      "display_name": "Python 3"
    },
    "language_info": {
      "name": "python"
    }
  },
  "cells": [
    {
      "cell_type": "markdown",
      "metadata": {
        "id": "view-in-github",
        "colab_type": "text"
      },
      "source": [
        "<a href=\"https://colab.research.google.com/github/josemiguelpulido/general-relativity/blob/main/CurvaturaTierra.ipynb\" target=\"_parent\"><img src=\"https://colab.research.google.com/assets/colab-badge.svg\" alt=\"Open In Colab\"/></a>"
      ]
    },
    {
      "cell_type": "markdown",
      "metadata": {
        "id": "cWKZrDMrJK2-"
      },
      "source": [
        "Se atribuye a Erasthotenes la primera demostración de que la Tierra es redonda. Erasthotenes tambien proporcionó el cálculo del radio de la Tierra. Carl Sagan nos explica aquí su razonamiento: https://www.youtube.com/watch?v=G8cbIWMv0rI\n",
        ":\n"
      ]
    },
    {
      "cell_type": "markdown",
      "metadata": {
        "id": "VZ6dInVZQDTn"
      },
      "source": [
        "En este notebook vamos a explicar las matemáticas del cálculo. Primero, vamos a ver todas las herramientas matemáticas que necesitaremos, y luego las pondremos en uso en el modelo que nos permitirá hacer el cálculo.\n",
        "\n",
        "Empecemos por los básicos. Los antiguos griegos observaron que el ratio entre el perímetro y el diámetro de un círculo es el mismo para cualquier círculo. \n"
      ]
    },
    {
      "cell_type": "code",
      "metadata": {
        "colab": {
          "base_uri": "https://localhost:8080/",
          "height": 317
        },
        "id": "z7mPrUYR5FnM",
        "outputId": "d5fca6c7-2fc1-4c71-d55c-730f716eadd3"
      },
      "source": [
        "# https://datahacker.rs/draw-lines-rectangles-circles-write-text-on-images-with-opencv-in-python/\n",
        "import cv2\n",
        "import numpy as np\n",
        "import matplotlib.pyplot as plt \n",
        "from google.colab.patches import cv2_imshow\n",
        "\n",
        "img = np.zeros((300, 300, 3), dtype=\"uint8\")\n",
        "img[:] = (255,255,255)\n",
        "font=cv2.FONT_HERSHEY_PLAIN\n",
        "\n",
        "def draw_circle(x: int,y: int,radius: int,name: str):\n",
        "  cv2.circle(img, (x,y), radius, (0,0,255), (1))\n",
        "  cv2.putText(img, \"P\" + name, (x,y - radius - 5), font, 1, (0,0,255), 1, cv2.LINE_4)\n",
        "  cv2.line(img, (x-radius,y), (x+radius,y), (255,0,0), (1))\n",
        "  cv2.putText(img,\"D\"+name, (x,y-5), font, 1, (255,0,0), 1, cv2.LINE_4)\n",
        "\n",
        "# Circle 1:\n",
        "draw_circle(50,150,50,\"1\")\n",
        "\n",
        "# Circle 2\n",
        "draw_circle(200,150,75,\"1\")\n",
        "\n",
        "cv2_imshow(img)"
      ],
      "execution_count": 2,
      "outputs": [
        {
          "output_type": "display_data",
          "data": {
            "image/png": "[encoded data removed]",
            "text/plain": [
              "<PIL.Image.Image image mode=RGB size=300x300 at 0x7FA1B43EDED0>"
            ]
          },
          "metadata": {}
        }
      ]
    },
    {
      "cell_type": "markdown",
      "metadata": {
        "id": "kIlDGxygrrO-"
      },
      "source": [
        "Para dos círculos 1 y 2, tenemos:"
      ]
    },
    {
      "cell_type": "code",
      "metadata": {
        "id": "JPVVyBQcQpXI"
      },
      "source": [
        "import sympy\n",
        "from sympy import sin, cos, tan, atan, Eq\n",
        "\n",
        "sympy.init_printing()  # for pretty printing"
      ],
      "execution_count": 122,
      "outputs": []
    },
    {
      "cell_type": "code",
      "metadata": {
        "colab": {
          "base_uri": "https://localhost:8080/",
          "height": 54
        },
        "id": "6DQE7cF5Qxjr",
        "outputId": "9effe581-fe0c-472d-cab4-72db07b9dfb2"
      },
      "source": [
        "#@title\n",
        "p1, d1 = sympy.symbols(\"P1 D1\")\n",
        "p2, d2 = sympy.symbols(\"P2 D2\")\n",
        "\n",
        "ratio = Eq(p2/d2,  p1/d1)\n",
        "ratio\n"
      ],
      "execution_count": 118,
      "outputs": [
        {
          "output_type": "execute_result",
          "data": {
            "image/png": "[encoded data removed]",
            "text/latex": "$\\displaystyle \\frac{P_{2}}{D_{2}} = \\frac{P_{1}}{D_{1}}$",
            "text/plain": [
              "P₂   P₁\n",
              "── = ──\n",
              "D₂   D₁"
            ]
          },
          "metadata": {},
          "execution_count": 118
        }
      ]
    },
    {
      "cell_type": "markdown",
      "metadata": {
        "id": "_hL-aPxQRqri"
      },
      "source": [
        "Esos antiguos griegos bautizaron este ratio con el nombre de la letra griega pi:\n"
      ]
    },
    {
      "cell_type": "code",
      "metadata": {
        "colab": {
          "base_uri": "https://localhost:8080/",
          "height": 52
        },
        "id": "R0nNHRa1RvQz",
        "outputId": "c57c77b5-5330-4e89-84ef-c0ab136fcbd5"
      },
      "source": [
        "r, p, d, pi = sympy.symbols(\"R P D pi\")\n",
        "Eq(pi, p/d)"
      ],
      "execution_count": 116,
      "outputs": [
        {
          "output_type": "execute_result",
          "data": {
            "image/png": "[encoded data removed]",
            "text/latex": "$\\displaystyle \\pi = \\frac{P}{D}$",
            "text/plain": [
              "    P\n",
              "π = ─\n",
              "    D"
            ]
          },
          "metadata": {},
          "execution_count": 116
        }
      ]
    },
    {
      "cell_type": "markdown",
      "metadata": {
        "id": "wc9wZDn4UTgx"
      },
      "source": [
        "usando el radio en lugar del diámetro:"
      ]
    },
    {
      "cell_type": "code",
      "metadata": {
        "colab": {
          "base_uri": "https://localhost:8080/",
          "height": 52
        },
        "id": "jftnz2t2UVYs",
        "outputId": "a2d28df9-6ab2-4f53-f0ae-fef5b6f1e6ca"
      },
      "source": [
        "Eq(pi, p/(2*r))"
      ],
      "execution_count": 120,
      "outputs": [
        {
          "output_type": "execute_result",
          "data": {
            "image/png": "[encoded data removed]",
            "text/latex": "$\\displaystyle \\pi = \\frac{P}{2 R}$",
            "text/plain": [
              "     P \n",
              "π = ───\n",
              "    2⋅R"
            ]
          },
          "metadata": {},
          "execution_count": 120
        }
      ]
    },
    {
      "cell_type": "code",
      "metadata": {
        "colab": {
          "base_uri": "https://localhost:8080/",
          "height": 52
        },
        "id": "P7XZzbVyUqWp",
        "outputId": "92a57e1c-0eeb-4e1c-a9f8-23499f735d9d"
      },
      "source": [
        "Eq( p/r, 2*pi)"
      ],
      "execution_count": 121,
      "outputs": [
        {
          "output_type": "execute_result",
          "data": {
            "image/png": "[encoded data removed]",
            "text/latex": "$\\displaystyle \\frac{P}{R} = 2 \\pi$",
            "text/plain": [
              "P      \n",
              "─ = 2⋅π\n",
              "R      "
            ]
          },
          "metadata": {},
          "execution_count": 121
        }
      ]
    },
    {
      "cell_type": "markdown",
      "metadata": {
        "id": "L1DH437YU7FJ"
      },
      "source": [
        "El perímetro representa al círculo completo. Si solo consideramos una parte del círculo, un arco de círculo, el ratio entre el arco y el radio sería variable, dependiendo del tamaño del arco. El valor de esta variable oscila entre 0 (correspondiente a arco nulo) y 2pi (correspondiente al arco igual a todo el perímetro del círculo) Denotamos esa variable como alpha:"
      ]
    },
    {
      "cell_type": "code",
      "metadata": {
        "colab": {
          "base_uri": "https://localhost:8080/",
          "height": 52
        },
        "id": "zIjvlrdqVhkc",
        "outputId": "52468143-aa33-4657-f14e-643a37d741ed"
      },
      "source": [
        "a, alpha = sympy.symbols(\"A alpha\")\n",
        "Eq( a/r, alpha)"
      ],
      "execution_count": 117,
      "outputs": [
        {
          "output_type": "execute_result",
          "data": {
            "image/png": "[encoded data removed]",
            "text/latex": "$\\displaystyle \\frac{A}{R} = \\alpha$",
            "text/plain": [
              "A    \n",
              "─ = α\n",
              "R    "
            ]
          },
          "metadata": {},
          "execution_count": 117
        }
      ]
    },
    {
      "cell_type": "code",
      "metadata": {
        "colab": {
          "base_uri": "https://localhost:8080/",
          "height": 317
        },
        "id": "9ebQ9fh6y9B8",
        "outputId": "bc4c827e-6e69-414a-ece2-0cc812ea522c"
      },
      "source": [
        "img = np.zeros((300, 300, 3), dtype=\"uint8\")\n",
        "img[:] = (255,255,255)\n",
        "font=cv2.FONT_HERSHEY_PLAIN\n",
        "\n",
        "def draw_arc(x: int,y: int,radius: int,angle: int,name: str=\"\", display: int=0):\n",
        "  \n",
        "  cv2.ellipse(img, (x,y), (radius,radius), 0, 0, -angle, (0,0,255), (1))\n",
        "  if display:\n",
        "    cv2.ellipse(img, (x,y), (int(radius/4),int(radius/4)), 0, 0, -angle, (0,255,0), (1))\n",
        "    cv2.putText(img,\"alpha\", (x+25,y-10), font, 0.7, (0,255,0), 1, cv2.LINE_4)\n",
        "\n",
        "  cv2.line(img, (x,y), (x+radius,y), (255,0,0), (1))\n",
        "  cv2.putText(img,\"R\"+name, (x+int(2*radius/3),y-5), font, 1, (255,0,0), 1, cv2.LINE_4)\n",
        "\n",
        "  import math\n",
        "  import numpy as np\n",
        "  c1 = int(math.cos(angle*(np.pi/180)) * radius)\n",
        "  c2 = int(math.sqrt((radius**2 - c1**2)))\n",
        "  cv2.line(img, (x,y), (x+c1,y-c2), (255,0,0), (1))\n",
        "  cv2.putText(img,\"R\"+name, (x+int(c1/3),y-int(2*c2/3)), font, 1, (255,0,0), 1, cv2.LINE_4)\n",
        "\n",
        "  cv2.putText(img,\"A\"+name, (x+radius,y-int(c2/2)), font, 1, (0,0,255), 1, cv2.LINE_4)\n",
        "\n",
        "  return (x+c1,y-c2)\n",
        "\n",
        "draw_arc(100,150,100,60)\n",
        "\n",
        "\n",
        "\n",
        "cv2_imshow(img)"
      ],
      "execution_count": 26,
      "outputs": [
        {
          "output_type": "display_data",
          "data": {
            "image/png": "[encoded data removed]",
            "text/plain": [
              "<PIL.Image.Image image mode=RGB size=300x300 at 0x7FA1AB06D050>"
            ]
          },
          "metadata": {}
        }
      ]
    },
    {
      "cell_type": "markdown",
      "metadata": {
        "id": "Ar8hjJt2anE-"
      },
      "source": [
        "Por otro lado, un arco queda definido por dos puntos en el perímetro del círculo. Esos dos puntos pueden ser unidos al centro del círculo mediante dos radios, que formarán un ángulo entre ellos. Si llevamos este mismo ángulo a otro círculo de diferente radio para definir el correspondiente arco, el ratio entre este nuevo arco y su radio será el mismo que el ratio entre el arco y radio del círculo original! "
      ]
    },
    {
      "cell_type": "code",
      "metadata": {
        "colab": {
          "base_uri": "https://localhost:8080/",
          "height": 54
        },
        "id": "SYma305FVnrp",
        "outputId": "c1aa5d62-92ff-4a01-cea4-e3853be9d949"
      },
      "source": [
        "a1, r1 = sympy.symbols(\"A1 R1\")\n",
        "a2, r2 = sympy.symbols(\"A2 R2\")\n",
        "\n",
        "Eq(a1/r1, a2/r2)"
      ],
      "execution_count": null,
      "outputs": [
        {
          "output_type": "execute_result",
          "data": {
            "image/png": "[encoded data removed]",
            "text/latex": "$\\displaystyle \\frac{A_{1}}{R_{1}} = \\frac{A_{2}}{R_{2}}$",
            "text/plain": [
              "A₁   A₂\n",
              "── = ──\n",
              "R₁   R₂"
            ]
          },
          "metadata": {},
          "execution_count": 9
        }
      ]
    },
    {
      "cell_type": "code",
      "metadata": {
        "colab": {
          "base_uri": "https://localhost:8080/",
          "height": 317
        },
        "id": "GhbuRCj4VNXy",
        "outputId": "3c01aad1-8928-43a7-b03d-434ce9c952a3"
      },
      "source": [
        "img = np.zeros((300, 300, 3), dtype=\"uint8\")\n",
        "img[:] = (255,255,255)\n",
        "font=cv2.FONT_HERSHEY_PLAIN\n",
        "\n",
        "\n",
        "draw_arc(50,250,100,60,\"1\")\n",
        "draw_arc(50,250,200,60,\"2\")\n",
        "cv2_imshow(img)"
      ],
      "execution_count": 74,
      "outputs": [
        {
          "output_type": "display_data",
          "data": {
            "image/png": "[encoded data removed]",
            "text/plain": [
              "<PIL.Image.Image image mode=RGB size=300x300 at 0x7FEF509C07D0>"
            ]
          },
          "metadata": {}
        }
      ]
    },
    {
      "cell_type": "markdown",
      "metadata": {
        "id": "tHRsLzr1-ovX"
      },
      "source": [
        "Esto significa que, en el caso de un círculo, un ángulo entre dos radios puede ser definido como el ratio entre el arco definidos por esos dos radios, y el valor del radio.\n"
      ]
    },
    {
      "cell_type": "code",
      "metadata": {
        "colab": {
          "base_uri": "https://localhost:8080/",
          "height": 52
        },
        "id": "A9ThqFHw_0li",
        "outputId": "32cfd921-9ec3-4749-db4a-98df3a53bef8"
      },
      "source": [
        "Eq(alpha, a/r)"
      ],
      "execution_count": null,
      "outputs": [
        {
          "output_type": "execute_result",
          "data": {
            "image/png": "[encoded data removed]",
            "text/latex": "$\\displaystyle \\alpha = \\frac{A}{R}$",
            "text/plain": [
              "    A\n",
              "α = ─\n",
              "    R"
            ]
          },
          "metadata": {},
          "execution_count": 10
        }
      ]
    },
    {
      "cell_type": "code",
      "metadata": {
        "colab": {
          "base_uri": "https://localhost:8080/",
          "height": 317
        },
        "id": "wgz4bc5Ndi7N",
        "outputId": "30017e49-57ac-4f9c-b95d-089349ca6232"
      },
      "source": [
        "img = np.zeros((300, 300, 3), dtype=\"uint8\")\n",
        "img[:] = (255,255,255)\n",
        "font=cv2.FONT_HERSHEY_PLAIN\n",
        "\n",
        "\n",
        "draw_arc(50,150,100,60,\"\", 1)\n",
        "cv2_imshow(img)"
      ],
      "execution_count": 109,
      "outputs": [
        {
          "output_type": "display_data",
          "data": {
            "image/png": "[encoded data removed]",
            "text/plain": [
              "<PIL.Image.Image image mode=RGB size=300x300 at 0x7FEF50958210>"
            ]
          },
          "metadata": {}
        }
      ]
    },
    {
      "cell_type": "markdown",
      "metadata": {
        "id": "h0KZT7l0CtVW"
      },
      "source": [
        "El valor del ángulo oscilará entre 0 (nulo) y 2pi (correspondiente a todo el perímetro del círculo), ylas unidades empleadas son los radianes. Como los ángulos también pueden ser medidos en grados, con valores oscilando entre 0 (nulo) y 360 (correspondiente a todo el perímetro del círculo), la conversión entre grados y radianes es:"
      ]
    },
    {
      "cell_type": "code",
      "metadata": {
        "colab": {
          "base_uri": "https://localhost:8080/",
          "height": 47
        },
        "id": "FrCpiVKObW0e",
        "outputId": "764cb496-8663-4c08-8b84-c67ae19e8f82"
      },
      "source": [
        "alpha_g, alpha_r = sympy.symbols(\"alpha_g alpha_r\")\n",
        "Eq  (alpha_g*(pi/180),alpha_r)"
      ],
      "execution_count": null,
      "outputs": [
        {
          "output_type": "execute_result",
          "data": {
            "image/png": "[encoded data removed]",
            "text/latex": "$\\displaystyle \\frac{\\alpha_{g} \\pi}{180} = \\alpha_{r}$",
            "text/plain": [
              "α_g⋅π     \n",
              "───── = αᵣ\n",
              " 180      "
            ]
          },
          "metadata": {},
          "execution_count": 11
        }
      ]
    },
    {
      "cell_type": "markdown",
      "metadata": {
        "id": "8FJsUtpAoMR_"
      },
      "source": [
        "Los griegos también definieron dos ratios en un triángulo rectángulo. \n",
        "\n"
      ]
    },
    {
      "cell_type": "code",
      "metadata": {
        "colab": {
          "base_uri": "https://localhost:8080/",
          "height": 317
        },
        "id": "2fqKFKs_JHNX",
        "outputId": "ab180ff5-255c-4845-9079-eee7b0575b5e"
      },
      "source": [
        "img = np.zeros((300, 300, 3), dtype=\"uint8\")\n",
        "img[:] = (255,255,255)\n",
        "font=cv2.FONT_HERSHEY_PLAIN\n",
        "\n",
        "def draw_triangle(x: int, y: int, a: int, b: int):\n",
        "  pts = np.array([[x, y], [x+b, y], [x+b, y-a]], np.int32)\n",
        "  # Creating a blue triangle\n",
        "  cv2.polylines(img, [pts], True, (255,0,0), 1)\n",
        "  cv2.putText(img,\"b\", (x+int(b/2),y+15), font, 1, (255,0,0), 1, cv2.LINE_4)\n",
        "  cv2.putText(img,\"a\", (x+b+5,(y-a) + int(a/2)), font, 1, (255,0,0), 1, cv2.LINE_4)\n",
        "  cv2.putText(img,\"c\", (x+int(b/2)-10,y-int(a/2)), font, 1, (255,0,0), 1, cv2.LINE_4)\n",
        "\n",
        "  import math\n",
        "  angle = math.asin(a/math.sqrt(a*+2 + b**2)) * 180 / np.pi\n",
        "  cv2.ellipse(img, (x,y), (int(b/5),int(b/5)), 0, 0, -angle, (0,0,255), (1))\n",
        "  cv2.putText(img,\"alpha\", (x+25,y-5), font, 0.7, (0,0,255), 1, cv2.LINE_4)\n",
        "\n",
        "draw_triangle(50,150,50,100)\n",
        "cv2_imshow(img)"
      ],
      "execution_count": 54,
      "outputs": [
        {
          "output_type": "display_data",
          "data": {
            "image/png": "[encoded data removed]",
            "text/plain": [
              "<PIL.Image.Image image mode=RGB size=300x300 at 0x7FCA19AEB810>"
            ]
          },
          "metadata": {}
        }
      ]
    },
    {
      "cell_type": "markdown",
      "metadata": {
        "id": "yQ5VZqRbJLvD"
      },
      "source": [
        "Definieron como seno de un ángulo al ratio entre el cateto opuesto al ángulo y la hipotenusa, y como coseno del ángulo al ratio entre el cateto adyacente al ángulo y la hipotenusa. Porqué? porque este ratio es contante para todos los triángulos rectángulos definidos a partir de ese ángulo."
      ]
    },
    {
      "cell_type": "code",
      "metadata": {
        "colab": {
          "base_uri": "https://localhost:8080/",
          "height": 47
        },
        "id": "VCDOpv1DpMSG",
        "outputId": "f90bff91-c193-4a8b-f79f-1865d0d03dde"
      },
      "source": [
        "a, b, c = sympy.symbols(\"a b c\")\n",
        "\n",
        "Eq(sin(alpha), a/c)\n"
      ],
      "execution_count": 119,
      "outputs": [
        {
          "output_type": "execute_result",
          "data": {
            "image/png": "[encoded data removed]",
            "text/latex": "$\\displaystyle \\sin{\\left(\\alpha \\right)} = \\frac{a}{c}$",
            "text/plain": [
              "         a\n",
              "sin(α) = ─\n",
              "         c"
            ]
          },
          "metadata": {},
          "execution_count": 119
        }
      ]
    },
    {
      "cell_type": "code",
      "metadata": {
        "colab": {
          "base_uri": "https://localhost:8080/",
          "height": 52
        },
        "id": "dG-xwYK5peMQ",
        "outputId": "b29fc3c4-2119-4553-9ce5-b013add6a54b"
      },
      "source": [
        "Eq(cos(alpha), b/c)"
      ],
      "execution_count": null,
      "outputs": [
        {
          "output_type": "execute_result",
          "data": {
            "image/png": "[encoded data removed]",
            "text/latex": "$\\displaystyle \\cos{\\left(\\alpha \\right)} = \\frac{b}{c}$",
            "text/plain": [
              "         b\n",
              "cos(α) = ─\n",
              "         c"
            ]
          },
          "metadata": {},
          "execution_count": 14
        }
      ]
    },
    {
      "cell_type": "code",
      "metadata": {
        "colab": {
          "base_uri": "https://localhost:8080/",
          "height": 57
        },
        "id": "qXGkpFIPheWw",
        "outputId": "d113f2c6-f453-4175-f879-93d3785e5b0c"
      },
      "source": [
        "Eq(sin(alpha)/cos(alpha), a/b)"
      ],
      "execution_count": 124,
      "outputs": [
        {
          "output_type": "execute_result",
          "data": {
            "image/png": "[encoded data removed]",
            "text/latex": "$\\displaystyle \\frac{\\sin{\\left(\\alpha \\right)}}{\\cos{\\left(\\alpha \\right)}} = \\frac{a}{b}$",
            "text/plain": [
              "sin(α)   a\n",
              "────── = ─\n",
              "cos(α)   b"
            ]
          },
          "metadata": {},
          "execution_count": 124
        }
      ]
    },
    {
      "cell_type": "code",
      "metadata": {
        "colab": {
          "base_uri": "https://localhost:8080/",
          "height": 47
        },
        "id": "bopAF4kYiJtE",
        "outputId": "5a27ec68-c3e0-43b0-99d7-c88ec1733c33"
      },
      "source": [
        "Eq(tan(alpha), a/b)"
      ],
      "execution_count": 125,
      "outputs": [
        {
          "output_type": "execute_result",
          "data": {
            "image/png": "[encoded data removed]",
            "text/latex": "$\\displaystyle \\tan{\\left(\\alpha \\right)} = \\frac{a}{b}$",
            "text/plain": [
              "         a\n",
              "tan(α) = ─\n",
              "         b"
            ]
          },
          "metadata": {},
          "execution_count": 125
        }
      ]
    },
    {
      "cell_type": "markdown",
      "metadata": {
        "id": "JciZ4vBvp_Ls"
      },
      "source": [
        "Con este conocimiento, es sencillo probar fórmulas trigronométricas como:"
      ]
    },
    {
      "cell_type": "code",
      "metadata": {
        "colab": {
          "base_uri": "https://localhost:8080/",
          "height": 38
        },
        "id": "IkXzWWHdqKyQ",
        "outputId": "4fafbde3-02ae-4663-9ea5-c25b99ed4ea9"
      },
      "source": [
        "Eq(sin(alpha)**2 + cos(alpha)**2, 1)"
      ],
      "execution_count": null,
      "outputs": [
        {
          "output_type": "execute_result",
          "data": {
            "image/png": "[encoded data removed]",
            "text/latex": "$\\displaystyle \\sin^{2}{\\left(\\alpha \\right)} + \\cos^{2}{\\left(\\alpha \\right)} = 1$",
            "text/plain": [
              "   2         2       \n",
              "sin (α) + cos (α) = 1"
            ]
          },
          "metadata": {},
          "execution_count": 16
        }
      ]
    },
    {
      "cell_type": "markdown",
      "metadata": {
        "id": "_zfnN00gqTKP"
      },
      "source": [
        "Sustituyendo seno y coseno por su definición en ratios:"
      ]
    },
    {
      "cell_type": "code",
      "metadata": {
        "colab": {
          "base_uri": "https://localhost:8080/",
          "height": 54
        },
        "id": "qAbptYb-qW2e",
        "outputId": "bcec8d95-4511-4982-bc01-ff576b247128"
      },
      "source": [
        "Eq((a/c)**2 + (b/c)**2, 1)"
      ],
      "execution_count": null,
      "outputs": [
        {
          "output_type": "execute_result",
          "data": {
            "image/png": "[encoded data removed]",
            "text/latex": "$\\displaystyle \\frac{a^{2}}{c^{2}} + \\frac{b^{2}}{c^{2}} = 1$",
            "text/plain": [
              " 2    2    \n",
              "a    b     \n",
              "── + ── = 1\n",
              " 2    2    \n",
              "c    c     "
            ]
          },
          "metadata": {},
          "execution_count": 17
        }
      ]
    },
    {
      "cell_type": "markdown",
      "metadata": {
        "id": "QvXWR_-SqfkE"
      },
      "source": [
        "quedando:"
      ]
    },
    {
      "cell_type": "code",
      "metadata": {
        "colab": {
          "base_uri": "https://localhost:8080/",
          "height": 38
        },
        "id": "nxfqqvf3qhq0",
        "outputId": "67b29bd8-7c91-4038-923d-5a936a5c3289"
      },
      "source": [
        "Eq(a**2 + b**2, c**2)"
      ],
      "execution_count": null,
      "outputs": [
        {
          "output_type": "execute_result",
          "data": {
            "image/png": "[encoded data removed]",
            "text/latex": "$\\displaystyle a^{2} + b^{2} = c^{2}$",
            "text/plain": [
              " 2    2    2\n",
              "a  + b  = c "
            ]
          },
          "metadata": {},
          "execution_count": 18
        }
      ]
    },
    {
      "cell_type": "markdown",
      "metadata": {
        "id": "istKly9xqmS7"
      },
      "source": [
        "lo que corresponde al teorema de Pitágonas, por lo que si demostramos este teorema, entonces queda demostrada también la fórmula trigronométrica. Es decir, hemos **reducido** la prueba de la fórmula trigronométrica a la prueba del teorema de Pitágoras. \n",
        "\n",
        "Usaremos una prueba gráfica:"
      ]
    },
    {
      "cell_type": "code",
      "metadata": {
        "id": "FeAhNhXLq9xJ",
        "colab": {
          "base_uri": "https://localhost:8080/",
          "height": 317
        },
        "outputId": "ee100cbe-eff9-4154-e9a0-480c2fbd842d"
      },
      "source": [
        "img = np.zeros((300, 300, 3), dtype=\"uint8\")\n",
        "img[:] = (255,255,255)\n",
        "font=cv2.FONT_HERSHEY_PLAIN\n",
        "\n",
        "x=100\n",
        "y=200\n",
        "a=50\n",
        "b=100\n",
        "pts = np.array([[x, y], [x+b, y], [x+b, y-a]], np.int32)\n",
        "cv2.polylines(img, [pts], True, (255,0,0), 1)\n",
        "\n",
        "pts = np.array([[x, y], [x-a, y], [x-a, y-b]], np.int32)\n",
        "cv2.polylines(img, [pts], True, (255,0,0), 1)\n",
        "\n",
        "pts = np.array([[x-a, y-b], [x-a, y-b-a], [x-a+b, y-b-a]], np.int32)\n",
        "cv2.polylines(img, [pts], True, (255,0,0), 1)\n",
        "\n",
        "pts = np.array([[x+b, y-a], [x+b, y-a-b], [x+b-a, y-a-b]], np.int32)\n",
        "cv2.polylines(img, [pts], True, (255,0,0), 1)\n",
        "\n",
        "cv2.putText(img,\"a\", (x-int(a/2),y+15), font, 1, (255,0,0), 1, cv2.LINE_4)\n",
        "cv2.putText(img,\"b\", (x+int(b/2),y+15), font, 1, (255,0,0), 1, cv2.LINE_4)\n",
        "cv2.putText(img,\"c\", (x+int(b/2),y-int(2*a/3)), font, 1, (255,0,0), 1, cv2.LINE_4)\n",
        "\n",
        "cv2.putText(img,\"b\", (x-a-15,y-int(b/2)), font, 1, (255,0,0), 1, cv2.LINE_4)\n",
        "cv2.putText(img,\"a\", (x-a-15,y-b-int(a/2)), font, 1, (255,0,0), 1, cv2.LINE_4)\n",
        "cv2.putText(img,\"c\", (x-int(a/2),y-int(b/2)), font, 1, (255,0,0), 1, cv2.LINE_4)\n",
        "\n",
        "cv2.putText(img,\"a\", (x+b+10,y-int(a/2)), font, 1, (255,0,0), 1, cv2.LINE_4)\n",
        "cv2.putText(img,\"b\", (x+b+10,y-a-int(b/2)), font, 1, (255,0,0), 1, cv2.LINE_4)\n",
        "cv2.putText(img,\"c\", (x-int(a/2),y-b), font, 1, (255,0,0), 1, cv2.LINE_4)\n",
        "\n",
        "\n",
        "cv2.putText(img,\"b\", (x-a+int(b/2),y-a-b-5), font, 1, (255,0,0), 1, cv2.LINE_4)\n",
        "cv2.putText(img,\"a\", (x+b-int(a/2),y-a-b-5), font, 1, (255,0,0), 1, cv2.LINE_4)\n",
        "cv2.putText(img,\"c\", (x+int(b/2),y-b), font, 1, (255,0,0), 1, cv2.LINE_4)\n",
        "\n",
        "cv2_imshow(img)"
      ],
      "execution_count": 113,
      "outputs": [
        {
          "output_type": "display_data",
          "data": {
            "image/png": "[encoded data removed]",
            "text/plain": [
              "<PIL.Image.Image image mode=RGB size=300x300 at 0x7FCA198A5490>"
            ]
          },
          "metadata": {}
        }
      ]
    },
    {
      "cell_type": "markdown",
      "metadata": {
        "id": "KnEGWf3viEox"
      },
      "source": [
        "Usando los teoremas:\n",
        "\n",
        "1.   Los ángulos de un triángulo rectángulo suman 90 grados\n",
        "2.   El ángulo entre dos puntos de una recta es 180 grados\n",
        "\n",
        "Podemos confirmar que el polígono inscrito en el cuadrado de lado a+b es a su vez un cuadrado de lado c, pues tiene 4 ángulos de 90 grados (debido a #1 y #2) y los cuatro lados iguales. Con ello, podemos igualar el área del cuadrado de lado a+b con el área de los 4 triángulos y el cuadrado de lado c inscritos en él:\n",
        "\n"
      ]
    },
    {
      "cell_type": "code",
      "metadata": {
        "colab": {
          "base_uri": "https://localhost:8080/",
          "height": 39
        },
        "id": "yuFi3NxZi1oo",
        "outputId": "76eddd90-3f70-44ab-e2df-4b7f0e548ad8"
      },
      "source": [
        "Eq((a+b)**2, c**2 + 4*(a*b/2))"
      ],
      "execution_count": 126,
      "outputs": [
        {
          "output_type": "execute_result",
          "data": {
            "image/png": "[encoded data removed]",
            "text/latex": "$\\displaystyle \\left(a + b\\right)^{2} = 2 a b + c^{2}$",
            "text/plain": [
              "       2            2\n",
              "(a + b)  = 2⋅a⋅b + c "
            ]
          },
          "metadata": {},
          "execution_count": 126
        }
      ]
    },
    {
      "cell_type": "markdown",
      "metadata": {
        "id": "94hWZFnXjW2_"
      },
      "source": [
        "Desarrollando:"
      ]
    },
    {
      "cell_type": "code",
      "metadata": {
        "colab": {
          "base_uri": "https://localhost:8080/",
          "height": 38
        },
        "id": "YKaVcCYRjYgN",
        "outputId": "748222fc-cee9-450e-ac64-247bd19bd025"
      },
      "source": [
        "Eq(a**2+b**2,c**2)"
      ],
      "execution_count": 128,
      "outputs": [
        {
          "output_type": "execute_result",
          "data": {
            "image/png": "[encoded data removed]",
            "text/latex": "$\\displaystyle a^{2} + b^{2} = c^{2}$",
            "text/plain": [
              " 2    2    2\n",
              "a  + b  = c "
            ]
          },
          "metadata": {},
          "execution_count": 128
        }
      ]
    },
    {
      "cell_type": "markdown",
      "metadata": {
        "id": "cHKo5yFWjhOO"
      },
      "source": [
        "QED, tanto para el teorema de Pitágoras como para la fómula trigronométrica de suma de cuadrados de seno y coseno sea igual a 1."
      ]
    },
    {
      "cell_type": "markdown",
      "metadata": {
        "id": "wz1V-IAhjjGM"
      },
      "source": [
        "Tenemos ya las herramientas necesarias, así que ahora podemos centrarnos en el modelo de Erasthotenes descrito por Carl Sagan, donde las pondremos en uso para determinar el radio de la Tierra:"
      ]
    },
    {
      "cell_type": "code",
      "metadata": {
        "colab": {
          "base_uri": "https://localhost:8080/",
          "height": 317
        },
        "id": "gDnRZXAwHKm9",
        "outputId": "6726bf87-26d7-47bf-d55e-e09064d9c1ff"
      },
      "source": [
        "img = np.zeros((300, 800, 3), dtype=\"uint8\")\n",
        "img[:] = (255,255,255)\n",
        "font=cv2.FONT_HERSHEY_PLAIN\n",
        "\n",
        "x=50\n",
        "y=200\n",
        "sun_distance = 800\n",
        "radius = 200\n",
        "pole_height=80\n",
        "angle=60\n",
        "\n",
        "from typing import Tuple\n",
        "def draw_arc2(x: int,y: int,radius: int,angle: int, color: Tuple[int,int,int], display: int=0, text: str=\"\"):\n",
        "  \n",
        "  cv2.ellipse(img, (x,y), (radius,radius), 0, 0, -angle, color, (1))\n",
        "  if display:\n",
        "    cv2.ellipse(img, (x,y), (int(radius/4),int(radius/4)), 0, 0, -angle, (0,255,0), (1))\n",
        "    cv2.putText(img,\"alpha\"+text, (x+25,y-10), font, 0.7, (0,255,0), 1, cv2.LINE_4)\n",
        "\n",
        "  cv2.line(img, (x,y), (x+radius,y), (255,0,0), (1))\n",
        "\n",
        "  import math\n",
        "  import numpy as np\n",
        "  c1 = int(math.cos(angle*(np.pi/180)) * radius)\n",
        "  c2 = int(math.sqrt((radius**2 - c1**2)))\n",
        "  cv2.line(img, (x,y), (x+c1,y-c2), (255,0,0), (1))\n",
        "\n",
        "  return (x+c1,y-c2)\n",
        "\n",
        "\n",
        "\n",
        "cv2.ellipse(img, (x,y), (radius,radius), 0, 0, -angle, (0,0,255), (1))\n",
        "(x2,y2) = draw_arc2(x,y,radius, 30, (0,0,255),1,\"1\")\n",
        "(x3,y3) = draw_arc2(x,y,radius+pole_height, 30, (255,255,255))\n",
        "draw_arc2(x3,y3,radius+pole_height, 30, (255,255,255),1,\"2\")\n",
        "\n",
        "#sun rays\n",
        "cv2.line(img, (x+sun_distance,y), (x+radius,y), (0,200,255), (1))\n",
        "cv2.line(img, (x+sun_distance,y3), (x3-int(radius/2),y3), (0,200,255), (1))\n",
        "\n",
        "#poles\n",
        "cv2.line(img, (x+radius+pole_height,y), (x+radius,y), (0,0,0), (3))\n",
        "cv2.line(img, (x2,y2), (x3,y3), (0,0,0), (3))\n",
        "\n",
        "\n",
        "cv2.putText(img,\"h\", (x2+int((x3-x2)/2),y2-int((y2-y3)/8)), font, 1, (0,0,0), 1, cv2.LINE_4)\n",
        "cv2.putText(img,\"h\", (x2+int((x3-x2)/2),y+20), font, 1, (0,0,0), 1, cv2.LINE_4)\n",
        "cv2.putText(img,\"d\", (x2+int((x3-x2)/2),y-int((y-y2)/2)), font, 1, (0,0,255), 1, cv2.LINE_4)\n",
        "cv2.putText(img,\"s\", (x2-30,y2-int((y2-y3)/8)), font, 1, (0,0,255), 1, cv2.LINE_4)\n",
        "cv2.putText(img,\"alpha3\", (x2+int((x3-x2)/5),y3+10), font, 0.7, (0,255,0), 1, cv2.LINE_4)\n",
        "cv2.putText(img,\"R\", (x+int(radius/2),y+20), font, 1, (255,0,0), 1, cv2.LINE_4)\n",
        "\n",
        "\n",
        "cv2_imshow(img)"
      ],
      "execution_count": 133,
      "outputs": [
        {
          "output_type": "display_data",
          "data": {
            "image/png": "[encoded data removed]",
            "text/plain": [
              "<PIL.Image.Image image mode=RGB size=800x300 at 0x7FA1A4A6CC90>"
            ]
          },
          "metadata": {}
        }
      ]
    },
    {
      "cell_type": "markdown",
      "metadata": {
        "id": "Au7keX36ghB1"
      },
      "source": [
        "Donde:  \n",
        "\n",
        "*   El arco rojo es la superficies de la Tierra de radio **R**,\n",
        "*   Las lineas amarillas son los rayos de sol. Se puede asumir que son paralelos \n",
        "*   **h** es la altura del palo de sombra\n",
        "*   **s** es la sombra que hace el palo en una latitud determinada\n",
        "*   **d** es la distancia entre los dos palos en la superficie de la Tierra\n"
      ]
    },
    {
      "cell_type": "markdown",
      "metadata": {
        "id": "WlL1oV40faz0"
      },
      "source": [
        "Resulta que alpha2 y alpha3 son el mismo ángulo por la [proposición XV](https://www.c82.net/euclid/es/book1/#prop15) de Euclides. alpha1 y alpha3 son el mismo ángulo por la [proposición XXIX](https://www.c82.net/euclid/es/book1/#prop29) de Euclides. Por tanto, tenemos las ecuaciones:"
      ]
    },
    {
      "cell_type": "markdown",
      "metadata": {
        "id": "qPLDEP4djGWe"
      },
      "source": [
        "Asumiendo que el triángulo formado por s y h es un triángulo rectángulo (en un espacio pequeño, se puede considerar la superficie de la tierra como plana, y el palo se puede clavar perpendicular al suelo), tenemos:"
      ]
    },
    {
      "cell_type": "code",
      "metadata": {
        "colab": {
          "base_uri": "https://localhost:8080/",
          "height": 47
        },
        "id": "0k7vtDiuiSif",
        "outputId": "315b81d7-db3b-46a0-b49d-e51c51be01d1"
      },
      "source": [
        "s, h, d, R = sympy.symbols(\"s h d R\")\n",
        "Eq(tan(alpha), s/h)"
      ],
      "execution_count": 135,
      "outputs": [
        {
          "output_type": "execute_result",
          "data": {
            "image/png": "[encoded data removed]",
            "text/latex": "$\\displaystyle \\tan{\\left(\\alpha \\right)} = \\frac{s}{h}$",
            "text/plain": [
              "         s\n",
              "tan(α) = ─\n",
              "         h"
            ]
          },
          "metadata": {},
          "execution_count": 135
        }
      ]
    },
    {
      "cell_type": "markdown",
      "metadata": {
        "id": "HzF6TwqYjqiL"
      },
      "source": [
        "Es decir, que el ángulo alpha es:"
      ]
    },
    {
      "cell_type": "code",
      "metadata": {
        "colab": {
          "base_uri": "https://localhost:8080/",
          "height": 48
        },
        "id": "tF8U9L-pjmb6",
        "outputId": "33efa6df-92ad-44f5-85e6-b41970f309ce"
      },
      "source": [
        "Eq(alpha, atan(s/h))"
      ],
      "execution_count": 136,
      "outputs": [
        {
          "output_type": "execute_result",
          "data": {
            "image/png": "[encoded data removed]",
            "text/latex": "$\\displaystyle \\alpha = \\operatorname{atan}{\\left(\\frac{s}{h} \\right)}$",
            "text/plain": [
              "        ⎛s⎞\n",
              "α = atan⎜─⎟\n",
              "        ⎝h⎠"
            ]
          },
          "metadata": {},
          "execution_count": 136
        }
      ]
    },
    {
      "cell_type": "markdown",
      "metadata": {
        "id": "0uTb4I5njwXx"
      },
      "source": [
        "Y dado que alpha es también el ratio en el radio R y el arco d:"
      ]
    },
    {
      "cell_type": "code",
      "metadata": {
        "colab": {
          "base_uri": "https://localhost:8080/",
          "height": 52
        },
        "id": "PqkME-HYigez",
        "outputId": "d961a000-ef31-4704-e9e8-564d4826daf4"
      },
      "source": [
        "Eq(R, d/alpha)"
      ],
      "execution_count": 137,
      "outputs": [
        {
          "output_type": "execute_result",
          "data": {
            "image/png": "[encoded data removed]",
            "text/latex": "$\\displaystyle R = \\frac{d}{\\alpha}$",
            "text/plain": [
              "    d\n",
              "R = ─\n",
              "    α"
            ]
          },
          "metadata": {},
          "execution_count": 137
        }
      ]
    }
  ]
}