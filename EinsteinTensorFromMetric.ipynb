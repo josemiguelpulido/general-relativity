{
  "nbformat": 4,
  "nbformat_minor": 0,
  "metadata": {
    "colab": {
      "name": "EinsteinTensorFromMetric.ipynb",
      "provenance": [],
      "collapsed_sections": [],
      "authorship_tag": "ABX9TyPskAXRoXOMTuFsiWyg4Vlh"
    },
    "kernelspec": {
      "name": "python3",
      "display_name": "Python 3"
    }
  },
  "cells": [
    {
      "cell_type": "markdown",
      "metadata": {
        "id": "TNtpA0SluDXl"
      },
      "source": [
        "The goal of this notebook is, given a metric, to compute Christoffel symbols, Riemann curvature tensor, Ricci tensor, Ricci scalar and Eintein tensor. Supported metrics include 2D spherical, 2D toro, Schwarzschild, Wormhole, Alcubierre"
      ]
    },
    {
      "cell_type": "code",
      "metadata": {
        "id": "whiJ_GY7PmzD"
      },
      "source": [
        "import sympy\n",
        "import numpy as np\n",
        "from sympy import sin, cos, Function\n",
        "\n",
        "sympy.init_printing()  # for pretty printing"
      ],
      "execution_count": 3,
      "outputs": []
    },
    {
      "cell_type": "markdown",
      "metadata": {
        "id": "bedJPMzCxMUJ"
      },
      "source": [
        "**2D Spherical**"
      ]
    },
    {
      "cell_type": "code",
      "metadata": {
        "colab": {
          "base_uri": "https://localhost:8080/",
          "height": 58
        },
        "id": "XB2ov1jPP5vC",
        "outputId": "4fab945e-90ef-4339-dbbf-035118dff181"
      },
      "source": [
        "syms = sympy.symbols(\"theta phi\")\n",
        "theta, phi = syms\n",
        "R = sympy.symbols(\"R\")\n",
        "m = sympy.Array(sympy.diag(R**2, R**2 * sin(theta)**2))\n",
        "m\n"
      ],
      "execution_count": 4,
      "outputs": [
        {
          "output_type": "execute_result",
          "data": {
            "text/latex": "$$\\left[\\begin{matrix}R^{2} & 0\\\\0 & R^{2} \\sin^{2}{\\left (\\theta \\right )}\\end{matrix}\\right]$$",
            "text/plain": [
              "⎡ 2            ⎤\n",
              "⎢R       0     ⎥\n",
              "⎢              ⎥\n",
              "⎢     2    2   ⎥\n",
              "⎣0   R ⋅sin (θ)⎦"
            ]
          },
          "metadata": {
            "tags": []
          },
          "execution_count": 4
        }
      ]
    },
    {
      "cell_type": "markdown",
      "metadata": {
        "id": "20r_2VouxV4e"
      },
      "source": [
        "**2D toro**"
      ]
    },
    {
      "cell_type": "code",
      "metadata": {
        "colab": {
          "base_uri": "https://localhost:8080/",
          "height": 60
        },
        "id": "incQ1jp2Tiw6",
        "outputId": "9ea0ac82-2241-4192-c8b0-3c2ea4344d73"
      },
      "source": [
        "syms = sympy.symbols(\"r phi\")\n",
        "r, phi = syms\n",
        "R = sympy.symbols(\"R\")\n",
        "m = sympy.Array(sympy.diag((R + r*cos(phi))**2, r**2))\n",
        "m"
      ],
      "execution_count": null,
      "outputs": [
        {
          "output_type": "execute_result",
          "data": {
            "text/latex": "$$\\left[\\begin{matrix}\\left(R + r \\cos{\\left (\\phi \\right )}\\right)^{2} & 0\\\\0 & r^{2}\\end{matrix}\\right]$$",
            "text/plain": [
              "⎡              2    ⎤\n",
              "⎢(R + r⋅cos(φ))   0 ⎥\n",
              "⎢                   ⎥\n",
              "⎢                  2⎥\n",
              "⎣       0         r ⎦"
            ]
          },
          "metadata": {
            "tags": []
          },
          "execution_count": 49
        }
      ]
    },
    {
      "cell_type": "markdown",
      "metadata": {
        "id": "kY6y6n1xxPpV"
      },
      "source": [
        "**Schwarzschild**"
      ]
    },
    {
      "cell_type": "code",
      "metadata": {
        "colab": {
          "base_uri": "https://localhost:8080/",
          "height": 105
        },
        "id": "O5EgSFqETDpy",
        "outputId": "332899da-a419-4865-e31b-1e34b26bd699"
      },
      "source": [
        "syms = sympy.symbols(\"t r theta phi\")\n",
        "t, r, theta, phi = syms\n",
        "M = sympy.symbols(\"M\")\n",
        "gtt = -(1-(2*M/r))\n",
        "grr = 1/ (-gtt)\n",
        "m = sympy.Array(sympy.diag(gtt, grr, r**2, r**2 * sin(theta)**2))\n",
        "m"
      ],
      "execution_count": null,
      "outputs": [
        {
          "output_type": "execute_result",
          "data": {
            "text/latex": "$$\\left[\\begin{matrix}\\frac{2 M}{r} - 1 & 0 & 0 & 0\\\\0 & \\frac{1}{- \\frac{2 M}{r} + 1} & 0 & 0\\\\0 & 0 & r^{2} & 0\\\\0 & 0 & 0 & r^{2} \\sin^{2}{\\left (\\theta \\right )}\\end{matrix}\\right]$$",
            "text/plain": [
              "⎡2⋅M                               ⎤\n",
              "⎢─── - 1      0      0       0     ⎥\n",
              "⎢ r                                ⎥\n",
              "⎢                                  ⎥\n",
              "⎢             1                    ⎥\n",
              "⎢   0     ─────────  0       0     ⎥\n",
              "⎢           2⋅M                    ⎥\n",
              "⎢         - ─── + 1                ⎥\n",
              "⎢            r                     ⎥\n",
              "⎢                                  ⎥\n",
              "⎢                     2            ⎥\n",
              "⎢   0         0      r       0     ⎥\n",
              "⎢                                  ⎥\n",
              "⎢                         2    2   ⎥\n",
              "⎣   0         0      0   r ⋅sin (θ)⎦"
            ]
          },
          "metadata": {
            "tags": []
          },
          "execution_count": 11
        }
      ]
    },
    {
      "cell_type": "markdown",
      "metadata": {
        "id": "XfxKK868xYWm"
      },
      "source": [
        "**Wormhole**"
      ]
    },
    {
      "cell_type": "code",
      "metadata": {
        "colab": {
          "base_uri": "https://localhost:8080/",
          "height": 99
        },
        "id": "kmB-YObiuvhx",
        "outputId": "ac7c9c00-c1d8-4366-8de0-4015fa4613c7"
      },
      "source": [
        "syms = sympy.symbols(\"t r theta phi\")\n",
        "t, r, theta, phi = syms\n",
        "b = sympy.symbols(\"b\")\n",
        "gtt = (b**2 + r**2)\n",
        "gpp = gtt * sin(theta)**2\n",
        "m = sympy.Array(sympy.diag(-1, 1, gtt, gpp))\n",
        "m"
      ],
      "execution_count": null,
      "outputs": [
        {
          "output_type": "execute_result",
          "data": {
            "text/latex": "$$\\left[\\begin{matrix}-1 & 0 & 0 & 0\\\\0 & 1 & 0 & 0\\\\0 & 0 & b^{2} + r^{2} & 0\\\\0 & 0 & 0 & \\left(b^{2} + r^{2}\\right) \\sin^{2}{\\left (\\theta \\right )}\\end{matrix}\\right]$$",
            "text/plain": [
              "⎡-1  0     0             0        ⎤\n",
              "⎢                                 ⎥\n",
              "⎢0   1     0             0        ⎥\n",
              "⎢                                 ⎥\n",
              "⎢        2    2                   ⎥\n",
              "⎢0   0  b  + r           0        ⎥\n",
              "⎢                                 ⎥\n",
              "⎢                ⎛ 2    2⎞    2   ⎥\n",
              "⎣0   0     0     ⎝b  + r ⎠⋅sin (θ)⎦"
            ]
          },
          "metadata": {
            "tags": []
          },
          "execution_count": 4
        }
      ]
    },
    {
      "cell_type": "markdown",
      "metadata": {
        "id": "DFvYPQxdND_Z"
      },
      "source": [
        "**Alcubierre**"
      ]
    },
    {
      "cell_type": "code",
      "metadata": {
        "colab": {
          "base_uri": "https://localhost:8080/",
          "height": 142
        },
        "id": "b3jufdPwNFuU",
        "outputId": "10b4c3e1-29c4-4b9a-aa40-8401c14decfc"
      },
      "source": [
        "syms = sympy.symbols(\"t x y z\")\n",
        "t, x, y, z = syms\n",
        "R = sympy.symbols(\"R\")\n",
        "x_s = sympy.symbols(\"x_s\", cls=Function)\n",
        "r_s = (x - x_s(t)) ** 2 + y ** 2 + z ** 2\n",
        "f_s = 1 - (r_s/R)**4\n",
        "M = sympy.diag(x_s(t).diff(t) ** 2 * f_s ** 2-1, 1, 1, 1)\n",
        "M[0,1] = -2 * x_s(t).diff(t) * f_s\n",
        "M[1,0] = M[0,1]\n",
        "m = sympy.Array(M.tolist())\n",
        "m "
      ],
      "execution_count": null,
      "outputs": [
        {
          "output_type": "execute_result",
          "data": {
            "text/latex": "$$\\left[\\begin{matrix}\\left(1 - \\frac{1}{R^{4}} \\left(y^{2} + z^{2} + \\left(x - \\operatorname{x_{s}}{\\left (t \\right )}\\right)^{2}\\right)^{4}\\right)^{2} \\left(\\frac{d}{d t} \\operatorname{x_{s}}{\\left (t \\right )}\\right)^{2} - 1 & - 2 \\left(1 - \\frac{1}{R^{4}} \\left(y^{2} + z^{2} + \\left(x - \\operatorname{x_{s}}{\\left (t \\right )}\\right)^{2}\\right)^{4}\\right) \\frac{d}{d t} \\operatorname{x_{s}}{\\left (t \\right )} & 0 & 0\\\\- 2 \\left(1 - \\frac{1}{R^{4}} \\left(y^{2} + z^{2} + \\left(x - \\operatorname{x_{s}}{\\left (t \\right )}\\right)^{2}\\right)^{4}\\right) \\frac{d}{d t} \\operatorname{x_{s}}{\\left (t \\right )} & 1 & 0 & 0\\\\0 & 0 & 1 & 0\\\\0 & 0 & 0 & 1\\end{matrix}\\right]$$",
            "text/plain": [
              "⎡                               2                                             \n",
              "⎢⎛                            4⎞                       ⎛                      \n",
              "⎢⎜    ⎛ 2    2              2⎞ ⎟             2         ⎜    ⎛ 2    2          \n",
              "⎢⎜    ⎝y  + z  + (x - xₛ(t)) ⎠ ⎟  ⎛d        ⎞          ⎜    ⎝y  + z  + (x - xₛ\n",
              "⎢⎜1 - ─────────────────────────⎟ ⋅⎜──(xₛ(t))⎟  - 1  -2⋅⎜1 - ──────────────────\n",
              "⎢⎜                 4           ⎟  ⎝dt       ⎠          ⎜                 4    \n",
              "⎢⎝                R            ⎠                       ⎝                R     \n",
              "⎢                                                                             \n",
              "⎢     ⎛                            4⎞                                         \n",
              "⎢     ⎜    ⎛ 2    2              2⎞ ⎟                                         \n",
              "⎢     ⎜    ⎝y  + z  + (x - xₛ(t)) ⎠ ⎟ d                                       \n",
              "⎢  -2⋅⎜1 - ─────────────────────────⎟⋅──(xₛ(t))                          1    \n",
              "⎢     ⎜                 4           ⎟ dt                                      \n",
              "⎢     ⎝                R            ⎠                                         \n",
              "⎢                                                                             \n",
              "⎢                        0                                               0    \n",
              "⎢                                                                             \n",
              "⎣                        0                                               0    \n",
              "\n",
              "                        ⎤\n",
              "      4⎞                ⎥\n",
              "    2⎞ ⎟                ⎥\n",
              "(t)) ⎠ ⎟ d              ⎥\n",
              "───────⎟⋅──(xₛ(t))  0  0⎥\n",
              "       ⎟ dt             ⎥\n",
              "       ⎠                ⎥\n",
              "                        ⎥\n",
              "                        ⎥\n",
              "                        ⎥\n",
              "                        ⎥\n",
              "                    0  0⎥\n",
              "                        ⎥\n",
              "                        ⎥\n",
              "                        ⎥\n",
              "                    1  0⎥\n",
              "                        ⎥\n",
              "                    0  1⎦"
            ]
          },
          "metadata": {
            "tags": []
          },
          "execution_count": 18
        }
      ]
    },
    {
      "cell_type": "markdown",
      "metadata": {
        "id": "Y2zLUOvW_qp0"
      },
      "source": [
        "Compute inverse of metric:"
      ]
    },
    {
      "cell_type": "code",
      "metadata": {
        "colab": {
          "base_uri": "https://localhost:8080/",
          "height": 61
        },
        "id": "PEF9dxCiaBPx",
        "outputId": "45794401-2f5d-4ce5-aa28-27881018d7d7"
      },
      "source": [
        "#m_inv = sympy.Array(M.inv()) # uncomment for Alcubierre in particular, non-diagonal metrics in general\n",
        "m_inv = m.applyfunc(lambda x: 0 if x == 0 else 1/x)\n",
        "m_inv"
      ],
      "execution_count": 5,
      "outputs": [
        {
          "output_type": "execute_result",
          "data": {
            "text/latex": "$$\\left[\\begin{matrix}\\frac{1}{R^{2}} & 0\\\\0 & \\frac{1}{R^{2} \\sin^{2}{\\left (\\theta \\right )}}\\end{matrix}\\right]$$",
            "text/plain": [
              "⎡1             ⎤\n",
              "⎢──      0     ⎥\n",
              "⎢ 2            ⎥\n",
              "⎢R             ⎥\n",
              "⎢              ⎥\n",
              "⎢        1     ⎥\n",
              "⎢0   ──────────⎥\n",
              "⎢     2    2   ⎥\n",
              "⎣    R ⋅sin (θ)⎦"
            ]
          },
          "metadata": {
            "tags": []
          },
          "execution_count": 5
        }
      ]
    },
    {
      "cell_type": "markdown",
      "metadata": {
        "id": "P-eMwre-a3YD"
      },
      "source": [
        "Compute [**Christoffel symbols**](https://hirata10.github.io/ph6820/lec08_christoffel.pdf) (Lecture 8, section VI eq 41) with all three down indices:"
      ]
    },
    {
      "cell_type": "code",
      "metadata": {
        "colab": {
          "base_uri": "https://localhost:8080/",
          "height": 58
        },
        "id": "a2y42LPKTNJM",
        "outputId": "8cde50cd-d227-47d4-f781-cd788da6c994"
      },
      "source": [
        "dim = m.shape[0]\n",
        "ch_d = sympy.MutableDenseNDimArray(range(dim*dim*dim), (dim,dim,dim))*0\n",
        "for i in range(ch_d.shape[0]):\n",
        "  for j in range(ch_d.shape[1]):\n",
        "    for k in range(ch_d.shape[2]):\n",
        "      ch_d[i,j,k] = 0.5 * (m[j,i].diff(syms[k]) + m[i,k].diff(syms[j]) - m[k,j].diff(syms[i]))\n",
        "ch_d"
      ],
      "execution_count": 7,
      "outputs": [
        {
          "output_type": "execute_result",
          "data": {
            "text/latex": "$$\\left[\\begin{matrix}\\left[\\begin{matrix}0 & 0\\\\0 & - 1.0 R^{2} \\sin{\\left (\\theta \\right )} \\cos{\\left (\\theta \\right )}\\end{matrix}\\right] & \\left[\\begin{matrix}0 & 1.0 R^{2} \\sin{\\left (\\theta \\right )} \\cos{\\left (\\theta \\right )}\\\\1.0 R^{2} \\sin{\\left (\\theta \\right )} \\cos{\\left (\\theta \\right )} & 0\\end{matrix}\\right]\\end{matrix}\\right]$$",
            "text/plain": [
              "⎡⎡0            0          ⎤  ⎡                           2              ⎤⎤\n",
              "⎢⎢                        ⎥  ⎢         0            1.0⋅R ⋅sin(θ)⋅cos(θ)⎥⎥\n",
              "⎢⎢         2              ⎥  ⎢                                          ⎥⎥\n",
              "⎢⎣0  -1.0⋅R ⋅sin(θ)⋅cos(θ)⎦  ⎢     2                                    ⎥⎥\n",
              "⎣                            ⎣1.0⋅R ⋅sin(θ)⋅cos(θ)           0          ⎦⎦"
            ]
          },
          "metadata": {
            "tags": []
          },
          "execution_count": 7
        }
      ]
    },
    {
      "cell_type": "markdown",
      "metadata": {
        "id": "r3QLv0IzayGf"
      },
      "source": [
        "Raise first index via metric multiplication (tensorproduct followed by contration on the selected indices - one up from metric, first down from Christoffel symbol-):"
      ]
    },
    {
      "cell_type": "code",
      "metadata": {
        "colab": {
          "base_uri": "https://localhost:8080/",
          "height": 69
        },
        "id": "ag65QLP7ZwjT",
        "outputId": "2e33e22b-a524-43a2-b6b4-b535240aa4a5"
      },
      "source": [
        "temp = sympy.tensorproduct(m_inv, ch_d)\n",
        "#ch = temp[:,0,0,:,:]  + temp[:,1,1,:,:]\n",
        "ch = sympy.tensorcontraction(temp,(1,2))\n",
        "#ch = sum([sympy.simplify(temp[:,i,i,:,:]) for i in range(dim)],sympy.MutableDenseNDimArray(range(dim*dim*dim), (dim,dim,dim))*0)\n",
        "ch"
      ],
      "execution_count": 8,
      "outputs": [
        {
          "output_type": "execute_result",
          "data": {
            "text/latex": "$$\\left[\\begin{matrix}\\left[\\begin{matrix}0 & 0\\\\0 & - 1.0 \\sin{\\left (\\theta \\right )} \\cos{\\left (\\theta \\right )}\\end{matrix}\\right] & \\left[\\begin{matrix}0 & \\frac{1.0 \\cos{\\left (\\theta \\right )}}{\\sin{\\left (\\theta \\right )}}\\\\\\frac{1.0 \\cos{\\left (\\theta \\right )}}{\\sin{\\left (\\theta \\right )}} & 0\\end{matrix}\\right]\\end{matrix}\\right]$$",
            "text/plain": [
              "⎡                         ⎡            1.0⋅cos(θ)⎤⎤\n",
              "⎢                         ⎢    0       ──────────⎥⎥\n",
              "⎢⎡0          0         ⎤  ⎢              sin(θ)  ⎥⎥\n",
              "⎢⎢                     ⎥  ⎢                      ⎥⎥\n",
              "⎢⎣0  -1.0⋅sin(θ)⋅cos(θ)⎦  ⎢1.0⋅cos(θ)            ⎥⎥\n",
              "⎢                         ⎢──────────      0     ⎥⎥\n",
              "⎣                         ⎣  sin(θ)              ⎦⎦"
            ]
          },
          "metadata": {
            "tags": []
          },
          "execution_count": 8
        }
      ]
    },
    {
      "cell_type": "markdown",
      "metadata": {
        "id": "4V8qEn06fKnQ"
      },
      "source": [
        "Compute the **[Riemann](https://hirata10.github.io/ph6820/lec10_curvature.pdf) curvature tensor** (Lecture 10, section III, eq 7):"
      ]
    },
    {
      "cell_type": "code",
      "metadata": {
        "id": "pGNo11Kxe9au",
        "colab": {
          "base_uri": "https://localhost:8080/",
          "height": 99
        },
        "outputId": "3c9aed60-9290-4d09-a6cd-6e6384bbebbe"
      },
      "source": [
        "rie = sympy.MutableDenseNDimArray(range(dim*dim*dim*dim), (dim,dim,dim,dim))*0\n",
        "for i in range(rie.shape[0]):\n",
        "  for j in range(rie.shape[1]):\n",
        "    for k in range(rie.shape[2]):\n",
        "      for l in range(rie.shape[3]):\n",
        "        sum_1 = sum([ch[i,m,k]*ch[m,j,l] for m in range(dim)])\n",
        "        sum_2 = sum([ch[i,m,l]*ch[m,j,k] for m in range(dim)])\n",
        "        rie[i,j,k,l] = sympy.simplify(ch[i,j,l].diff(syms[k]) - ch[i,j,k].diff(syms[l]) + sum_1 - sum_2)\n",
        "rie"
      ],
      "execution_count": 9,
      "outputs": [
        {
          "output_type": "execute_result",
          "data": {
            "text/latex": "$$\\left[\\begin{matrix}\\left[\\begin{matrix}0 & 0\\\\0 & 0\\end{matrix}\\right] & \\left[\\begin{matrix}0 & 1.0 \\sin^{2}{\\left (\\theta \\right )}\\\\- 1.0 \\sin^{2}{\\left (\\theta \\right )} & 0\\end{matrix}\\right]\\\\\\left[\\begin{matrix}0 & -1.0\\\\1.0 & 0\\end{matrix}\\right] & \\left[\\begin{matrix}0 & 0\\\\0 & 0\\end{matrix}\\right]\\end{matrix}\\right]$$",
            "text/plain": [
              "⎡             ⎡                     2   ⎤⎤\n",
              "⎢  ⎡0  0⎤     ⎢     0        1.0⋅sin (θ)⎥⎥\n",
              "⎢  ⎢    ⎥     ⎢                         ⎥⎥\n",
              "⎢  ⎣0  0⎦     ⎢        2                ⎥⎥\n",
              "⎢             ⎣-1.0⋅sin (θ)       0     ⎦⎥\n",
              "⎢                                        ⎥\n",
              "⎢⎡ 0   -1.0⎤            ⎡0  0⎤           ⎥\n",
              "⎢⎢         ⎥            ⎢    ⎥           ⎥\n",
              "⎣⎣1.0   0  ⎦            ⎣0  0⎦           ⎦"
            ]
          },
          "metadata": {
            "tags": []
          },
          "execution_count": 9
        }
      ]
    },
    {
      "cell_type": "markdown",
      "metadata": {
        "id": "5FyNsDGDvy_9"
      },
      "source": [
        "Riemann tensor can also be computed taking [simmetries](https://hirata10.github.io/ph6820/lec10_curvature.pdf) into account (Lecture 10, Section III.A):"
      ]
    },
    {
      "cell_type": "code",
      "metadata": {
        "id": "k0yZnOLfvUHc",
        "colab": {
          "base_uri": "https://localhost:8080/",
          "height": 99
        },
        "outputId": "9a30f32f-f1f6-421d-c095-0e623ce00b0b"
      },
      "source": [
        "rie = sympy.MutableDenseNDimArray(range(dim*dim*dim*dim), (dim,dim,dim,dim))*0\n",
        "for i in range(rie.shape[0]):\n",
        "  for j in range(rie.shape[1]):\n",
        "    for k in range(rie.shape[2]):\n",
        "      for l in range(rie.shape[3]):\n",
        "        if k > l:\n",
        "          rie[i,j,k,l] = -rie[i,j,l,k]\n",
        "        else:\n",
        "          sum_1 = sum([ch[i,m,k]*ch[m,j,l] for m in range(dim)])\n",
        "          sum_2 = sum([ch[i,m,l]*ch[m,j,k] for m in range(dim)])\n",
        "          rie[i,j,k,l] = sympy.simplify(ch[i,j,l].diff(syms[k]) - ch[i,j,k].diff(syms[l]) + sum_1 - sum_2)\n",
        "rie"
      ],
      "execution_count": 11,
      "outputs": [
        {
          "output_type": "execute_result",
          "data": {
            "text/latex": "$$\\left[\\begin{matrix}\\left[\\begin{matrix}0 & 0\\\\0 & 0\\end{matrix}\\right] & \\left[\\begin{matrix}0 & 1.0 \\sin^{2}{\\left (\\theta \\right )}\\\\- 1.0 \\sin^{2}{\\left (\\theta \\right )} & 0\\end{matrix}\\right]\\\\\\left[\\begin{matrix}0 & -1.0\\\\1.0 & 0\\end{matrix}\\right] & \\left[\\begin{matrix}0 & 0\\\\0 & 0\\end{matrix}\\right]\\end{matrix}\\right]$$",
            "text/plain": [
              "⎡             ⎡                     2   ⎤⎤\n",
              "⎢  ⎡0  0⎤     ⎢     0        1.0⋅sin (θ)⎥⎥\n",
              "⎢  ⎢    ⎥     ⎢                         ⎥⎥\n",
              "⎢  ⎣0  0⎦     ⎢        2                ⎥⎥\n",
              "⎢             ⎣-1.0⋅sin (θ)       0     ⎦⎥\n",
              "⎢                                        ⎥\n",
              "⎢⎡ 0   -1.0⎤            ⎡0  0⎤           ⎥\n",
              "⎢⎢         ⎥            ⎢    ⎥           ⎥\n",
              "⎣⎣1.0   0  ⎦            ⎣0  0⎦           ⎦"
            ]
          },
          "metadata": {
            "tags": []
          },
          "execution_count": 11
        }
      ]
    },
    {
      "cell_type": "markdown",
      "metadata": {
        "id": "wgT0Sq0TFkd5"
      },
      "source": [
        "Simmetries can be observed when all indices of the Riemnan tensor are down, so we bring the first index down via metric multiplication:"
      ]
    },
    {
      "cell_type": "code",
      "metadata": {
        "colab": {
          "base_uri": "https://localhost:8080/",
          "height": 101
        },
        "id": "i7rOzmMzFpyQ",
        "outputId": "f265d2cd-4574-42a6-a48d-2354cdb07465"
      },
      "source": [
        "sympy.tensorcontraction(sympy.tensorproduct(m,rie),(1,2))"
      ],
      "execution_count": 13,
      "outputs": [
        {
          "output_type": "execute_result",
          "data": {
            "text/latex": "$$\\left[\\begin{matrix}\\left[\\begin{matrix}0 & 0\\\\0 & 0\\end{matrix}\\right] & \\left[\\begin{matrix}0 & 1.0 R^{2} \\sin^{2}{\\left (\\theta \\right )}\\\\- 1.0 R^{2} \\sin^{2}{\\left (\\theta \\right )} & 0\\end{matrix}\\right]\\\\\\left[\\begin{matrix}0 & - 1.0 R^{2} \\sin^{2}{\\left (\\theta \\right )}\\\\1.0 R^{2} \\sin^{2}{\\left (\\theta \\right )} & 0\\end{matrix}\\right] & \\left[\\begin{matrix}0 & 0\\\\0 & 0\\end{matrix}\\right]\\end{matrix}\\right]$$",
            "text/plain": [
              "⎡                                   ⎡                      2    2   ⎤⎤\n",
              "⎢             ⎡0  0⎤                ⎢       0         1.0⋅R ⋅sin (θ)⎥⎥\n",
              "⎢             ⎢    ⎥                ⎢                               ⎥⎥\n",
              "⎢             ⎣0  0⎦                ⎢      2    2                   ⎥⎥\n",
              "⎢                                   ⎣-1.0⋅R ⋅sin (θ)        0       ⎦⎥\n",
              "⎢                                                                    ⎥\n",
              "⎢⎡                      2    2   ⎤                                   ⎥\n",
              "⎢⎢      0         -1.0⋅R ⋅sin (θ)⎥               ⎡0  0⎤              ⎥\n",
              "⎢⎢                               ⎥               ⎢    ⎥              ⎥\n",
              "⎢⎢     2    2                    ⎥               ⎣0  0⎦              ⎥\n",
              "⎣⎣1.0⋅R ⋅sin (θ)         0       ⎦                                   ⎦"
            ]
          },
          "metadata": {
            "tags": []
          },
          "execution_count": 13
        }
      ]
    },
    {
      "cell_type": "markdown",
      "metadata": {
        "id": "IrKTH6C08vfN"
      },
      "source": [
        "Now compute the **Ricci tensor** by contracting the Rieman tensor:"
      ]
    },
    {
      "cell_type": "code",
      "metadata": {
        "colab": {
          "base_uri": "https://localhost:8080/",
          "height": 58
        },
        "id": "1GDrdWU6268V",
        "outputId": "818af934-501e-423a-9c48-993a959f2510"
      },
      "source": [
        "#ric = rie[0,:,0,:] + rie[1,:,1,:]\n",
        "ric = sympy.tensorcontraction(rie,(0,2))\n",
        "#ric = sum([rie[i,:,i,:] for i in range(dim)],sympy.MutableDenseNDimArray(range(dim*dim), (dim,dim))*0)\n",
        "ric"
      ],
      "execution_count": 14,
      "outputs": [
        {
          "output_type": "execute_result",
          "data": {
            "text/latex": "$$\\left[\\begin{matrix}1.0 & 0\\\\0 & 1.0 \\sin^{2}{\\left (\\theta \\right )}\\end{matrix}\\right]$$",
            "text/plain": [
              "⎡1.0       0     ⎤\n",
              "⎢                ⎥\n",
              "⎢            2   ⎥\n",
              "⎣ 0   1.0⋅sin (θ)⎦"
            ]
          },
          "metadata": {
            "tags": []
          },
          "execution_count": 14
        }
      ]
    },
    {
      "cell_type": "markdown",
      "metadata": {
        "id": "X3L9GBqS8T_Z"
      },
      "source": [
        "Note that due to [symmetries](https://hirata10.github.io/ph6820/lec11_efe.pdf) (Lecture 11, section III, eq 1), we could have chosen different down indices and get either the analogous \n",
        "result, or zeros:"
      ]
    },
    {
      "cell_type": "code",
      "metadata": {
        "colab": {
          "base_uri": "https://localhost:8080/",
          "height": 58
        },
        "id": "XUPCT15A8drC",
        "outputId": "738a59e9-1d33-4de9-f3a5-f4a1804ff71c"
      },
      "source": [
        "#rie[0,:,:,0] + rie[1,:,:,1]\n",
        "sympy.tensorcontraction(rie,(0,3))\n",
        "#sum([rie[i,:,:,i] for i in range(dim)],sympy.MutableDenseNDimArray(range(dim*dim), (dim,dim))*0)\n"
      ],
      "execution_count": 15,
      "outputs": [
        {
          "output_type": "execute_result",
          "data": {
            "text/latex": "$$\\left[\\begin{matrix}-1.0 & 0\\\\0 & - 1.0 \\sin^{2}{\\left (\\theta \\right )}\\end{matrix}\\right]$$",
            "text/plain": [
              "⎡-1.0       0      ⎤\n",
              "⎢                  ⎥\n",
              "⎢              2   ⎥\n",
              "⎣ 0    -1.0⋅sin (θ)⎦"
            ]
          },
          "metadata": {
            "tags": []
          },
          "execution_count": 15
        }
      ]
    },
    {
      "cell_type": "markdown",
      "metadata": {
        "id": "S8nSwzER86oy"
      },
      "source": [
        "and the other option would be all zeros:"
      ]
    },
    {
      "cell_type": "code",
      "metadata": {
        "colab": {
          "base_uri": "https://localhost:8080/",
          "height": 58
        },
        "id": "XL-kDqWK89Qk",
        "outputId": "d81e6f3d-45af-4176-a5e7-0f8d08a8a223"
      },
      "source": [
        "#rie[0,0,:,:] + rie[1,1,:,:]\n",
        "sympy.tensorcontraction(rie,(0,1))\n",
        "#sum([rie[i,i,:,:] for i in range(dim)],sympy.MutableDenseNDimArray(range(dim*dim), (dim,dim))*0)\n"
      ],
      "execution_count": 16,
      "outputs": [
        {
          "output_type": "execute_result",
          "data": {
            "text/latex": "$$\\left[\\begin{matrix}0 & 0\\\\0 & 0\\end{matrix}\\right]$$",
            "text/plain": [
              "⎡0  0⎤\n",
              "⎢    ⎥\n",
              "⎣0  0⎦"
            ]
          },
          "metadata": {
            "tags": []
          },
          "execution_count": 16
        }
      ]
    },
    {
      "cell_type": "markdown",
      "metadata": {
        "id": "xgvsN3-L64Mj"
      },
      "source": [
        "The Ricci tensor now has two down indices. To compute the Ricci scalar, first raise one index in the Ricci tensor, (via metric multiplication: tensor product followed by contraction):"
      ]
    },
    {
      "cell_type": "code",
      "metadata": {
        "colab": {
          "base_uri": "https://localhost:8080/",
          "height": 58
        },
        "id": "Sz7XBd6J3L9i",
        "outputId": "c1efd2b0-d997-4ab5-9ac9-1a66e8446508"
      },
      "source": [
        "temp = sympy.tensorproduct(m_inv,ric)\n",
        "#ric2 = temp[0,:,0,:] + temp[1,:,1,:]\n",
        "ric2 = sympy.tensorcontraction(temp,(0,2))\n",
        "#ric2 = sum([temp[i,:,i,:] for i in range(dim)],sympy.MutableDenseNDimArray(range(dim*dim), (dim,dim))*0)\n",
        "ric2"
      ],
      "execution_count": 17,
      "outputs": [
        {
          "output_type": "execute_result",
          "data": {
            "text/latex": "$$\\left[\\begin{matrix}\\frac{1.0}{R^{2}} & 0\\\\0 & \\frac{1.0}{R^{2}}\\end{matrix}\\right]$$",
            "text/plain": [
              "⎡1.0     ⎤\n",
              "⎢───   0 ⎥\n",
              "⎢  2     ⎥\n",
              "⎢ R      ⎥\n",
              "⎢        ⎥\n",
              "⎢     1.0⎥\n",
              "⎢ 0   ───⎥\n",
              "⎢       2⎥\n",
              "⎣      R ⎦"
            ]
          },
          "metadata": {
            "tags": []
          },
          "execution_count": 17
        }
      ]
    },
    {
      "cell_type": "markdown",
      "metadata": {
        "id": "HmDUmhcV7PN2"
      },
      "source": [
        "And finally contract the Ricci tensor to get the **Ricci scalar**:"
      ]
    },
    {
      "cell_type": "code",
      "metadata": {
        "colab": {
          "base_uri": "https://localhost:8080/",
          "height": 38
        },
        "id": "-enQs-0j5fgQ",
        "outputId": "e1ddb615-acde-4e02-a3b1-87f0ee9b55bf"
      },
      "source": [
        "#ric_s = ric2[0,0] + ric2[1,1]\n",
        "ric_s = sympy.tensorcontraction(ric2,(0,1))\n",
        "#ric_s = sum([ric2[i,i] for i in range(dim)])\n",
        "ric_s"
      ],
      "execution_count": 18,
      "outputs": [
        {
          "output_type": "execute_result",
          "data": {
            "image/png": "[encoded data removed]",
            "text/latex": "$$\\frac{2.0}{R^{2}}$$",
            "text/plain": [
              "2.0\n",
              "───\n",
              "  2\n",
              " R "
            ]
          },
          "metadata": {
            "tags": []
          },
          "execution_count": 18
        }
      ]
    },
    {
      "cell_type": "markdown",
      "metadata": {
        "id": "bDSOyKpc9OeW"
      },
      "source": [
        "[**Einstein Tensor**](https://hirata10.github.io/ph6820/lec11_efe.pdf) (Lecture 11, section IV.A, equation 15), with down indices, is then:"
      ]
    },
    {
      "cell_type": "code",
      "metadata": {
        "colab": {
          "base_uri": "https://localhost:8080/",
          "height": 58
        },
        "id": "hQeDo_oX9QwE",
        "outputId": "45bf3bc4-5e8d-4ab2-fc84-b52bd1ff2ce8"
      },
      "source": [
        "ein = ric - 0.5 * ric_s * m\n",
        "ein"
      ],
      "execution_count": 19,
      "outputs": [
        {
          "output_type": "execute_result",
          "data": {
            "text/latex": "$$\\left[\\begin{matrix}0 & 0\\\\0 & 0\\end{matrix}\\right]$$",
            "text/plain": [
              "⎡0  0⎤\n",
              "⎢    ⎥\n",
              "⎣0  0⎦"
            ]
          },
          "metadata": {
            "tags": []
          },
          "execution_count": 19
        }
      ]
    },
    {
      "cell_type": "markdown",
      "metadata": {
        "id": "hczbzQndA_WX"
      },
      "source": [
        "(which is 0 as expected for 2D spherical metric, given that it corresponds to flat spacetime)"
      ]
    }
  ]
}