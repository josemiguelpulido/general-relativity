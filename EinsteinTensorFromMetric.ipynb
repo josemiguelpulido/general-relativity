{
  "nbformat": 4,
  "nbformat_minor": 0,
  "metadata": {
    "colab": {
      "name": "EinsteinTensorFromMetric.ipynb",
      "provenance": [],
      "collapsed_sections": [],
      "authorship_tag": "ABX9TyOdiXPT/kzHQdVi1mz701k4"
    },
    "kernelspec": {
      "name": "python3",
      "display_name": "Python 3"
    }
  },
  "cells": [
    {
      "cell_type": "code",
      "metadata": {
        "id": "whiJ_GY7PmzD"
      },
      "source": [
        "import sympy\n",
        "from sympy import sin\n",
        "\n",
        "sympy.init_printing()  # for pretty printing"
      ],
      "execution_count": 1,
      "outputs": []
    },
    {
      "cell_type": "code",
      "metadata": {
        "colab": {
          "base_uri": "https://localhost:8080/",
          "height": 58
        },
        "id": "XB2ov1jPP5vC",
        "outputId": "5ac33206-114d-4223-9155-6b6a40ae48b8"
      },
      "source": [
        "syms = sympy.symbols(\"theta phi\")\n",
        "theta, phi = syms\n",
        "R = sympy.symbols(\"R\")\n",
        "m = sympy.Array(sympy.diag(R**2, R**2 * sin(theta)**2))\n",
        "m\n"
      ],
      "execution_count": 2,
      "outputs": [
        {
          "output_type": "execute_result",
          "data": {
            "text/latex": "$$\\left[\\begin{matrix}R^{2} & 0\\\\0 & R^{2} \\sin^{2}{\\left (\\theta \\right )}\\end{matrix}\\right]$$",
            "text/plain": [
              "⎡ 2            ⎤\n",
              "⎢R       0     ⎥\n",
              "⎢              ⎥\n",
              "⎢     2    2   ⎥\n",
              "⎣0   R ⋅sin (θ)⎦"
            ]
          },
          "metadata": {
            "tags": []
          },
          "execution_count": 2
        }
      ]
    },
    {
      "cell_type": "code",
      "metadata": {
        "colab": {
          "base_uri": "https://localhost:8080/",
          "height": 61
        },
        "id": "PEF9dxCiaBPx",
        "outputId": "6b78a4a2-40f0-4ffa-a276-9d8c0594d0d1"
      },
      "source": [
        "m_inv = m.applyfunc(lambda x: 0 if x == 0 else 1/x)\n",
        "m_inv"
      ],
      "execution_count": 3,
      "outputs": [
        {
          "output_type": "execute_result",
          "data": {
            "text/latex": "$$\\left[\\begin{matrix}\\frac{1}{R^{2}} & 0\\\\0 & \\frac{1}{R^{2} \\sin^{2}{\\left (\\theta \\right )}}\\end{matrix}\\right]$$",
            "text/plain": [
              "⎡1             ⎤\n",
              "⎢──      0     ⎥\n",
              "⎢ 2            ⎥\n",
              "⎢R             ⎥\n",
              "⎢              ⎥\n",
              "⎢        1     ⎥\n",
              "⎢0   ──────────⎥\n",
              "⎢     2    2   ⎥\n",
              "⎣    R ⋅sin (θ)⎦"
            ]
          },
          "metadata": {
            "tags": []
          },
          "execution_count": 3
        }
      ]
    },
    {
      "cell_type": "markdown",
      "metadata": {
        "id": "8lZVkahC8nf2"
      },
      "source": [
        "Compute Christoffel symbols:"
      ]
    },
    {
      "cell_type": "code",
      "metadata": {
        "colab": {
          "base_uri": "https://localhost:8080/",
          "height": 58
        },
        "id": "OhS8vKgWQjG4",
        "outputId": "e4ae6ec8-759c-428a-e74d-aeb35cc80853"
      },
      "source": [
        "dim = m.rank()\n",
        "ch = sympy.MutableDenseNDimArray(range(dim*dim*dim), (dim,dim,dim))*0\n",
        "ch[:,:,:]"
      ],
      "execution_count": 4,
      "outputs": [
        {
          "output_type": "execute_result",
          "data": {
            "text/latex": "$$\\left[\\begin{matrix}\\left[\\begin{matrix}0 & 0\\\\0 & 0\\end{matrix}\\right] & \\left[\\begin{matrix}0 & 0\\\\0 & 0\\end{matrix}\\right]\\end{matrix}\\right]$$",
            "text/plain": [
              "⎡⎡0  0⎤  ⎡0  0⎤⎤\n",
              "⎢⎢    ⎥  ⎢    ⎥⎥\n",
              "⎣⎣0  0⎦  ⎣0  0⎦⎦"
            ]
          },
          "metadata": {
            "tags": []
          },
          "execution_count": 4
        }
      ]
    },
    {
      "cell_type": "markdown",
      "metadata": {
        "id": "1vsbN_a28EnQ"
      },
      "source": [
        "First prepare metric differential:"
      ]
    },
    {
      "cell_type": "code",
      "metadata": {
        "colab": {
          "base_uri": "https://localhost:8080/",
          "height": 58
        },
        "id": "hgrE-5sSSKdJ",
        "outputId": "0bd4620b-1c2e-43ee-a364-4823e154d240"
      },
      "source": [
        "diff = sympy.Array([m.diff(s).tolist() for s in syms],(dim,dim,dim))\n",
        "diff\n",
        "\n"
      ],
      "execution_count": 24,
      "outputs": [
        {
          "output_type": "execute_result",
          "data": {
            "text/latex": "$$\\left[\\begin{matrix}\\left[\\begin{matrix}0 & 0\\\\0 & 2 R^{2} \\sin{\\left (\\theta \\right )} \\cos{\\left (\\theta \\right )}\\end{matrix}\\right] & \\left[\\begin{matrix}0 & 0\\\\0 & 0\\end{matrix}\\right]\\end{matrix}\\right]$$",
            "text/plain": [
              "⎡⎡0          0         ⎤        ⎤\n",
              "⎢⎢                     ⎥  ⎡0  0⎤⎥\n",
              "⎢⎢      2              ⎥  ⎢    ⎥⎥\n",
              "⎣⎣0  2⋅R ⋅sin(θ)⋅cos(θ)⎦  ⎣0  0⎦⎦"
            ]
          },
          "metadata": {
            "tags": []
          },
          "execution_count": 24
        }
      ]
    },
    {
      "cell_type": "markdown",
      "metadata": {
        "id": "P-eMwre-a3YD"
      },
      "source": [
        "Then compute [**Christoffel symbols**](https://hirata10.github.io/ph6820/lec08_christoffel.pdf) (section VI) with all three down indices:"
      ]
    },
    {
      "cell_type": "code",
      "metadata": {
        "colab": {
          "base_uri": "https://localhost:8080/",
          "height": 58
        },
        "id": "a2y42LPKTNJM",
        "outputId": "557232b3-c554-4eeb-9627-0e94e9c6a098"
      },
      "source": [
        "for i in range(ch.shape[0]):\n",
        "  for j in range(ch.shape[1]):\n",
        "    for k in range(ch.shape[2]):\n",
        "      ch[i,j,k] = 0.5 * (diff[k,j,i] + diff[j,i,k] - diff[i,k,j])\n",
        "ch"
      ],
      "execution_count": 6,
      "outputs": [
        {
          "output_type": "execute_result",
          "data": {
            "text/latex": "$$\\left[\\begin{matrix}\\left[\\begin{matrix}0 & 0\\\\0 & - 1.0 R^{2} \\sin{\\left (\\theta \\right )} \\cos{\\left (\\theta \\right )}\\end{matrix}\\right] & \\left[\\begin{matrix}0 & 1.0 R^{2} \\sin{\\left (\\theta \\right )} \\cos{\\left (\\theta \\right )}\\\\1.0 R^{2} \\sin{\\left (\\theta \\right )} \\cos{\\left (\\theta \\right )} & 0\\end{matrix}\\right]\\end{matrix}\\right]$$",
            "text/plain": [
              "⎡⎡0            0          ⎤  ⎡                           2              ⎤⎤\n",
              "⎢⎢                        ⎥  ⎢         0            1.0⋅R ⋅sin(θ)⋅cos(θ)⎥⎥\n",
              "⎢⎢         2              ⎥  ⎢                                          ⎥⎥\n",
              "⎢⎣0  -1.0⋅R ⋅sin(θ)⋅cos(θ)⎦  ⎢     2                                    ⎥⎥\n",
              "⎣                            ⎣1.0⋅R ⋅sin(θ)⋅cos(θ)           0          ⎦⎦"
            ]
          },
          "metadata": {
            "tags": []
          },
          "execution_count": 6
        }
      ]
    },
    {
      "cell_type": "markdown",
      "metadata": {
        "id": "r3QLv0IzayGf"
      },
      "source": [
        "Raise first index via metric multiplication (tensorproduct followed by contration on the selected indices - one up from metric, first down from Christoffel symbol-):"
      ]
    },
    {
      "cell_type": "code",
      "metadata": {
        "colab": {
          "base_uri": "https://localhost:8080/",
          "height": 69
        },
        "id": "ag65QLP7ZwjT",
        "outputId": "0b129b72-447c-4afd-b6a1-c5e305e1c1b1"
      },
      "source": [
        "temp = sympy.tensorproduct(m_inv, ch)\n",
        "ch = temp[:,0,0,:,:] + temp[:,1,1,:,:]\n",
        "ch"
      ],
      "execution_count": 7,
      "outputs": [
        {
          "output_type": "execute_result",
          "data": {
            "text/latex": "$$\\left[\\begin{matrix}\\left[\\begin{matrix}0 & 0\\\\0 & - 1.0 \\sin{\\left (\\theta \\right )} \\cos{\\left (\\theta \\right )}\\end{matrix}\\right] & \\left[\\begin{matrix}0 & \\frac{1.0 \\cos{\\left (\\theta \\right )}}{\\sin{\\left (\\theta \\right )}}\\\\\\frac{1.0 \\cos{\\left (\\theta \\right )}}{\\sin{\\left (\\theta \\right )}} & 0\\end{matrix}\\right]\\end{matrix}\\right]$$",
            "text/plain": [
              "⎡                         ⎡            1.0⋅cos(θ)⎤⎤\n",
              "⎢                         ⎢    0       ──────────⎥⎥\n",
              "⎢⎡0          0         ⎤  ⎢              sin(θ)  ⎥⎥\n",
              "⎢⎢                     ⎥  ⎢                      ⎥⎥\n",
              "⎢⎣0  -1.0⋅sin(θ)⋅cos(θ)⎦  ⎢1.0⋅cos(θ)            ⎥⎥\n",
              "⎢                         ⎢──────────      0     ⎥⎥\n",
              "⎣                         ⎣  sin(θ)              ⎦⎦"
            ]
          },
          "metadata": {
            "tags": []
          },
          "execution_count": 7
        }
      ]
    },
    {
      "cell_type": "markdown",
      "metadata": {
        "id": "QHTBrlzA6lOq"
      },
      "source": [
        "Now for the Rieman Curvature Tensor. First prepare the Christoffel differential:"
      ]
    },
    {
      "cell_type": "code",
      "metadata": {
        "colab": {
          "base_uri": "https://localhost:8080/",
          "height": 113
        },
        "id": "HE5ceBa-el1L",
        "outputId": "05db904b-b0c3-4db4-a7f7-ee2f6122d5a0"
      },
      "source": [
        "diff_ch = sympy.Array([ch.diff(s).tolist() for s in syms],(dim,dim,dim,dim))\n",
        "diff_ch"
      ],
      "execution_count": 25,
      "outputs": [
        {
          "output_type": "execute_result",
          "data": {
            "text/latex": "$$\\left[\\begin{matrix}\\left[\\begin{matrix}0 & 0\\\\0 & 1.0 \\sin^{2}{\\left (\\theta \\right )} - 1.0 \\cos^{2}{\\left (\\theta \\right )}\\end{matrix}\\right] & \\left[\\begin{matrix}0 & -1.0 - \\frac{1.0 \\cos^{2}{\\left (\\theta \\right )}}{\\sin^{2}{\\left (\\theta \\right )}}\\\\-1.0 - \\frac{1.0 \\cos^{2}{\\left (\\theta \\right )}}{\\sin^{2}{\\left (\\theta \\right )}} & 0\\end{matrix}\\right]\\\\\\left[\\begin{matrix}0 & 0\\\\0 & 0\\end{matrix}\\right] & \\left[\\begin{matrix}0 & 0\\\\0 & 0\\end{matrix}\\right]\\end{matrix}\\right]$$",
            "text/plain": [
              "⎡                                ⎡                                  2   ⎤⎤\n",
              "⎢                                ⎢                           1.0⋅cos (θ)⎥⎥\n",
              "⎢                                ⎢        0           -1.0 - ───────────⎥⎥\n",
              "⎢⎡0              0            ⎤  ⎢                                2     ⎥⎥\n",
              "⎢⎢                            ⎥  ⎢                             sin (θ)  ⎥⎥\n",
              "⎢⎢          2             2   ⎥  ⎢                                      ⎥⎥\n",
              "⎢⎣0  1.0⋅sin (θ) - 1.0⋅cos (θ)⎦  ⎢              2                       ⎥⎥\n",
              "⎢                                ⎢       1.0⋅cos (θ)                    ⎥⎥\n",
              "⎢                                ⎢-1.0 - ───────────          0         ⎥⎥\n",
              "⎢                                ⎢            2                         ⎥⎥\n",
              "⎢                                ⎣         sin (θ)                      ⎦⎥\n",
              "⎢                                                                        ⎥\n",
              "⎢            ⎡0  0⎤                               ⎡0  0⎤                 ⎥\n",
              "⎢            ⎢    ⎥                               ⎢    ⎥                 ⎥\n",
              "⎣            ⎣0  0⎦                               ⎣0  0⎦                 ⎦"
            ]
          },
          "metadata": {
            "tags": []
          },
          "execution_count": 25
        }
      ]
    },
    {
      "cell_type": "code",
      "metadata": {
        "colab": {
          "base_uri": "https://localhost:8080/",
          "height": 99
        },
        "id": "hCWSf68keXcg",
        "outputId": "819e5d00-2ad6-4b0f-8ef7-f6f7d7308434"
      },
      "source": [
        "rie = sympy.MutableDenseNDimArray(range(dim*dim*dim*dim), (dim,dim,dim,dim))*0\n",
        "rie"
      ],
      "execution_count": 9,
      "outputs": [
        {
          "output_type": "execute_result",
          "data": {
            "text/latex": "$$\\left[\\begin{matrix}\\left[\\begin{matrix}0 & 0\\\\0 & 0\\end{matrix}\\right] & \\left[\\begin{matrix}0 & 0\\\\0 & 0\\end{matrix}\\right]\\\\\\left[\\begin{matrix}0 & 0\\\\0 & 0\\end{matrix}\\right] & \\left[\\begin{matrix}0 & 0\\\\0 & 0\\end{matrix}\\right]\\end{matrix}\\right]$$",
            "text/plain": [
              "⎡⎡0  0⎤  ⎡0  0⎤⎤\n",
              "⎢⎢    ⎥  ⎢    ⎥⎥\n",
              "⎢⎣0  0⎦  ⎣0  0⎦⎥\n",
              "⎢              ⎥\n",
              "⎢⎡0  0⎤  ⎡0  0⎤⎥\n",
              "⎢⎢    ⎥  ⎢    ⎥⎥\n",
              "⎣⎣0  0⎦  ⎣0  0⎦⎦"
            ]
          },
          "metadata": {
            "tags": []
          },
          "execution_count": 9
        }
      ]
    },
    {
      "cell_type": "markdown",
      "metadata": {
        "id": "4V8qEn06fKnQ"
      },
      "source": [
        "Computing the **[Rieman](https://hirata10.github.io/ph6820/lec10_curvature.pdf) curvature tensor** (section III):"
      ]
    },
    {
      "cell_type": "code",
      "metadata": {
        "colab": {
          "base_uri": "https://localhost:8080/",
          "height": 99
        },
        "id": "pGNo11Kxe9au",
        "outputId": "cf18ceda-dd7b-4d52-b53c-236806233e28"
      },
      "source": [
        "for i in range(rie.shape[0]):\n",
        "  for j in range(rie.shape[1]):\n",
        "    for k in range(rie.shape[2]):\n",
        "      for l in range(rie.shape[3]):\n",
        "        sum_1 = sum([ch[i,m,k]*ch[m,j,l] for m in range(dim)])\n",
        "        sum_2 = sum([ch[i,m,l]*ch[m,j,k] for m in range(dim)])\n",
        "        rie[i,j,k,l] = sympy.simplify(diff_ch[k,i,j,l] - diff_ch[l,i,j,k] + sum_1 - sum_2)\n",
        "rie"
      ],
      "execution_count": 10,
      "outputs": [
        {
          "output_type": "execute_result",
          "data": {
            "text/latex": "$$\\left[\\begin{matrix}\\left[\\begin{matrix}0 & 0\\\\0 & 0\\end{matrix}\\right] & \\left[\\begin{matrix}0 & 1.0 \\sin^{2}{\\left (\\theta \\right )}\\\\- 1.0 \\sin^{2}{\\left (\\theta \\right )} & 0\\end{matrix}\\right]\\\\\\left[\\begin{matrix}0 & -1.0\\\\1.0 & 0\\end{matrix}\\right] & \\left[\\begin{matrix}0 & 0\\\\0 & 0\\end{matrix}\\right]\\end{matrix}\\right]$$",
            "text/plain": [
              "⎡             ⎡                     2   ⎤⎤\n",
              "⎢  ⎡0  0⎤     ⎢     0        1.0⋅sin (θ)⎥⎥\n",
              "⎢  ⎢    ⎥     ⎢                         ⎥⎥\n",
              "⎢  ⎣0  0⎦     ⎢        2                ⎥⎥\n",
              "⎢             ⎣-1.0⋅sin (θ)       0     ⎦⎥\n",
              "⎢                                        ⎥\n",
              "⎢⎡ 0   -1.0⎤            ⎡0  0⎤           ⎥\n",
              "⎢⎢         ⎥            ⎢    ⎥           ⎥\n",
              "⎣⎣1.0   0  ⎦            ⎣0  0⎦           ⎦"
            ]
          },
          "metadata": {
            "tags": []
          },
          "execution_count": 10
        }
      ]
    },
    {
      "cell_type": "markdown",
      "metadata": {
        "id": "IrKTH6C08vfN"
      },
      "source": [
        "Now compute the **Ricci tensor** by contracting the Rieman tensor:"
      ]
    },
    {
      "cell_type": "code",
      "metadata": {
        "colab": {
          "base_uri": "https://localhost:8080/",
          "height": 58
        },
        "id": "1GDrdWU6268V",
        "outputId": "cfb9f85e-fcf2-4e88-dd0b-0e86d7b42ac4"
      },
      "source": [
        "ric = rie[0,:,0,:] + rie[1,:,1,:]\n",
        "ric"
      ],
      "execution_count": 11,
      "outputs": [
        {
          "output_type": "execute_result",
          "data": {
            "text/latex": "$$\\left[\\begin{matrix}1.0 & 0\\\\0 & 1.0 \\sin^{2}{\\left (\\theta \\right )}\\end{matrix}\\right]$$",
            "text/plain": [
              "⎡1.0       0     ⎤\n",
              "⎢                ⎥\n",
              "⎢            2   ⎥\n",
              "⎣ 0   1.0⋅sin (θ)⎦"
            ]
          },
          "metadata": {
            "tags": []
          },
          "execution_count": 11
        }
      ]
    },
    {
      "cell_type": "markdown",
      "metadata": {
        "id": "X3L9GBqS8T_Z"
      },
      "source": [
        "Note that due to symmetries, we could have chosen different down indices and get the analogous result:"
      ]
    },
    {
      "cell_type": "code",
      "metadata": {
        "colab": {
          "base_uri": "https://localhost:8080/",
          "height": 58
        },
        "id": "XUPCT15A8drC",
        "outputId": "7fbb5dd5-ad94-4c5d-8349-2f18a999e00a"
      },
      "source": [
        "rie[0,:,:,0] + rie[1,:,:,1]"
      ],
      "execution_count": 12,
      "outputs": [
        {
          "output_type": "execute_result",
          "data": {
            "text/latex": "$$\\left[\\begin{matrix}-1.0 & 0\\\\0 & - 1.0 \\sin^{2}{\\left (\\theta \\right )}\\end{matrix}\\right]$$",
            "text/plain": [
              "⎡-1.0       0      ⎤\n",
              "⎢                  ⎥\n",
              "⎢              2   ⎥\n",
              "⎣ 0    -1.0⋅sin (θ)⎦"
            ]
          },
          "metadata": {
            "tags": []
          },
          "execution_count": 12
        }
      ]
    },
    {
      "cell_type": "markdown",
      "metadata": {
        "id": "S8nSwzER86oy"
      },
      "source": [
        "and the other option would be all zeros:"
      ]
    },
    {
      "cell_type": "code",
      "metadata": {
        "colab": {
          "base_uri": "https://localhost:8080/",
          "height": 58
        },
        "id": "XL-kDqWK89Qk",
        "outputId": "d2bd4d90-f80c-491e-b063-2ecf788d9965"
      },
      "source": [
        "rie[0,0,:,:] + rie[1,1,:,:]"
      ],
      "execution_count": 13,
      "outputs": [
        {
          "output_type": "execute_result",
          "data": {
            "text/latex": "$$\\left[\\begin{matrix}0 & 0\\\\0 & 0\\end{matrix}\\right]$$",
            "text/plain": [
              "⎡0  0⎤\n",
              "⎢    ⎥\n",
              "⎣0  0⎦"
            ]
          },
          "metadata": {
            "tags": []
          },
          "execution_count": 13
        }
      ]
    },
    {
      "cell_type": "markdown",
      "metadata": {
        "id": "xgvsN3-L64Mj"
      },
      "source": [
        "The Ricci tensor now has two down indices. Now compute the Ricci scalar, by first raising one index in the Ricci tensor, (via metric multiplication: tensor product followed by contraction):"
      ]
    },
    {
      "cell_type": "code",
      "metadata": {
        "colab": {
          "base_uri": "https://localhost:8080/",
          "height": 102
        },
        "id": "Sz7XBd6J3L9i",
        "outputId": "3b3206ba-cfdf-498d-a20d-b69176cf1b5b"
      },
      "source": [
        "temp = sympy.tensorproduct(m_inv,ric)\n",
        "temp"
      ],
      "execution_count": 14,
      "outputs": [
        {
          "output_type": "execute_result",
          "data": {
            "text/latex": "$$\\left[\\begin{matrix}\\left[\\begin{matrix}\\frac{1.0}{R^{2}} & 0\\\\0 & \\frac{1.0}{R^{2}} \\sin^{2}{\\left (\\theta \\right )}\\end{matrix}\\right] & \\left[\\begin{matrix}0 & 0\\\\0 & 0\\end{matrix}\\right]\\\\\\left[\\begin{matrix}0 & 0\\\\0 & 0\\end{matrix}\\right] & \\left[\\begin{matrix}\\frac{1.0}{R^{2} \\sin^{2}{\\left (\\theta \\right )}} & 0\\\\0 & \\frac{1.0}{R^{2}}\\end{matrix}\\right]\\end{matrix}\\right]$$",
            "text/plain": [
              "⎡⎡1.0             ⎤                   ⎤\n",
              "⎢⎢───       0     ⎥                   ⎥\n",
              "⎢⎢  2             ⎥                   ⎥\n",
              "⎢⎢ R              ⎥                   ⎥\n",
              "⎢⎢                ⎥       ⎡0  0⎤      ⎥\n",
              "⎢⎢            2   ⎥       ⎢    ⎥      ⎥\n",
              "⎢⎢     1.0⋅sin (θ)⎥       ⎣0  0⎦      ⎥\n",
              "⎢⎢ 0   ───────────⎥                   ⎥\n",
              "⎢⎢           2    ⎥                   ⎥\n",
              "⎢⎣          R     ⎦                   ⎥\n",
              "⎢                                     ⎥\n",
              "⎢                    ⎡   1.0         ⎤⎥\n",
              "⎢                    ⎢──────────   0 ⎥⎥\n",
              "⎢                    ⎢ 2    2        ⎥⎥\n",
              "⎢      ⎡0  0⎤        ⎢R ⋅sin (θ)     ⎥⎥\n",
              "⎢      ⎢    ⎥        ⎢               ⎥⎥\n",
              "⎢      ⎣0  0⎦        ⎢            1.0⎥⎥\n",
              "⎢                    ⎢    0       ───⎥⎥\n",
              "⎢                    ⎢              2⎥⎥\n",
              "⎣                    ⎣             R ⎦⎦"
            ]
          },
          "metadata": {
            "tags": []
          },
          "execution_count": 14
        }
      ]
    },
    {
      "cell_type": "code",
      "metadata": {
        "colab": {
          "base_uri": "https://localhost:8080/",
          "height": 58
        },
        "id": "jfKinLPl5DPt",
        "outputId": "32b826ed-ea5f-437f-eea3-6005b358bab5"
      },
      "source": [
        "ric2 = temp[0,:,0,:] + temp[1,:,1,:]\n",
        "ric2"
      ],
      "execution_count": 15,
      "outputs": [
        {
          "output_type": "execute_result",
          "data": {
            "text/latex": "$$\\left[\\begin{matrix}\\frac{1.0}{R^{2}} & 0\\\\0 & \\frac{1.0}{R^{2}}\\end{matrix}\\right]$$",
            "text/plain": [
              "⎡1.0     ⎤\n",
              "⎢───   0 ⎥\n",
              "⎢  2     ⎥\n",
              "⎢ R      ⎥\n",
              "⎢        ⎥\n",
              "⎢     1.0⎥\n",
              "⎢ 0   ───⎥\n",
              "⎢       2⎥\n",
              "⎣      R ⎦"
            ]
          },
          "metadata": {
            "tags": []
          },
          "execution_count": 15
        }
      ]
    },
    {
      "cell_type": "markdown",
      "metadata": {
        "id": "HmDUmhcV7PN2"
      },
      "source": [
        "And finally contract the Ricci tensor to get the **Ricci scalar**:"
      ]
    },
    {
      "cell_type": "code",
      "metadata": {
        "colab": {
          "base_uri": "https://localhost:8080/",
          "height": 38
        },
        "id": "-enQs-0j5fgQ",
        "outputId": "869f4251-aa17-446a-fdc4-f77cfba0771f"
      },
      "source": [
        "ric_s = ric2[0,0] + ric2[1,1]\n",
        "ric_s"
      ],
      "execution_count": 16,
      "outputs": [
        {
          "output_type": "execute_result",
          "data": {
            "image/png": "[encoded data removed]",
            "text/latex": "$$\\frac{2.0}{R^{2}}$$",
            "text/plain": [
              "2.0\n",
              "───\n",
              "  2\n",
              " R "
            ]
          },
          "metadata": {
            "tags": []
          },
          "execution_count": 16
        }
      ]
    },
    {
      "cell_type": "markdown",
      "metadata": {
        "id": "bDSOyKpc9OeW"
      },
      "source": [
        "[**Einstein Tensor**](https://hirata10.github.io/ph6820/lec11_efe.pdf) (section IV.A, equation 15), with down indices, is then:"
      ]
    },
    {
      "cell_type": "code",
      "metadata": {
        "colab": {
          "base_uri": "https://localhost:8080/",
          "height": 58
        },
        "id": "hQeDo_oX9QwE",
        "outputId": "a26e7cf2-02ad-413d-e333-933451f71e52"
      },
      "source": [
        "ein = ric - 0.5 * ric_s * m\n",
        "ein"
      ],
      "execution_count": 17,
      "outputs": [
        {
          "output_type": "execute_result",
          "data": {
            "text/latex": "$$\\left[\\begin{matrix}0 & 0\\\\0 & 0\\end{matrix}\\right]$$",
            "text/plain": [
              "⎡0  0⎤\n",
              "⎢    ⎥\n",
              "⎣0  0⎦"
            ]
          },
          "metadata": {
            "tags": []
          },
          "execution_count": 17
        }
      ]
    },
    {
      "cell_type": "markdown",
      "metadata": {
        "id": "hczbzQndA_WX"
      },
      "source": [
        "which is 0 as expected for spherical polar coordinates, given that they correspond to flat spacetime."
      ]
    }
  ]
}