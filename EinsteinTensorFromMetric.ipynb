{
  "nbformat": 4,
  "nbformat_minor": 0,
  "metadata": {
    "colab": {
      "name": "EinsteinTensorFromMetric.ipynb",
      "provenance": [],
      "collapsed_sections": [],
      "authorship_tag": "ABX9TyOQpokQBsGfrC8qFs8moV5s"
    },
    "kernelspec": {
      "name": "python3",
      "display_name": "Python 3"
    }
  },
  "cells": [
    {
      "cell_type": "code",
      "metadata": {
        "id": "whiJ_GY7PmzD"
      },
      "source": [
        "import sympy\n",
        "import numpy as np\n",
        "from sympy import sin, cos\n",
        "\n",
        "sympy.init_printing()  # for pretty printing"
      ],
      "execution_count": 2,
      "outputs": []
    },
    {
      "cell_type": "markdown",
      "metadata": {
        "id": "bedJPMzCxMUJ"
      },
      "source": [
        "**Spherical**"
      ]
    },
    {
      "cell_type": "code",
      "metadata": {
        "colab": {
          "base_uri": "https://localhost:8080/",
          "height": 58
        },
        "id": "XB2ov1jPP5vC",
        "outputId": "30339abf-58b2-4028-e4bb-aa924e2faa25"
      },
      "source": [
        "syms = sympy.symbols(\"theta phi\")\n",
        "theta, phi = syms\n",
        "R = sympy.symbols(\"R\")\n",
        "m = sympy.Array(sympy.diag(R**2, R**2 * sin(theta)**2))\n",
        "m\n"
      ],
      "execution_count": 66,
      "outputs": [
        {
          "output_type": "execute_result",
          "data": {
            "text/latex": "$$\\left[\\begin{matrix}R^{2} & 0\\\\0 & R^{2} \\sin^{2}{\\left (\\theta \\right )}\\end{matrix}\\right]$$",
            "text/plain": [
              "⎡ 2            ⎤\n",
              "⎢R       0     ⎥\n",
              "⎢              ⎥\n",
              "⎢     2    2   ⎥\n",
              "⎣0   R ⋅sin (θ)⎦"
            ]
          },
          "metadata": {
            "tags": []
          },
          "execution_count": 66
        }
      ]
    },
    {
      "cell_type": "markdown",
      "metadata": {
        "id": "kY6y6n1xxPpV"
      },
      "source": [
        "**Schwarzschild**"
      ]
    },
    {
      "cell_type": "code",
      "metadata": {
        "colab": {
          "base_uri": "https://localhost:8080/",
          "height": 105
        },
        "id": "O5EgSFqETDpy",
        "outputId": "8f704885-d2ad-49da-aa71-4b4234c917f1"
      },
      "source": [
        "syms = sympy.symbols(\"t r theta phi\")\n",
        "t, r, theta, phi = syms\n",
        "M = sympy.symbols(\"M\")\n",
        "gtt = -(1-(2*M/r))\n",
        "grr = 1/ (-gtt)\n",
        "m = sympy.Array(sympy.diag(gtt, grr, r**2, r**2 * sin(theta)**2))\n",
        "m"
      ],
      "execution_count": 80,
      "outputs": [
        {
          "output_type": "execute_result",
          "data": {
            "text/latex": "$$\\left[\\begin{matrix}\\frac{2 M}{r} - 1 & 0 & 0 & 0\\\\0 & \\frac{1}{- \\frac{2 M}{r} + 1} & 0 & 0\\\\0 & 0 & r^{2} & 0\\\\0 & 0 & 0 & r^{2} \\sin^{2}{\\left (\\theta \\right )}\\end{matrix}\\right]$$",
            "text/plain": [
              "⎡2⋅M                               ⎤\n",
              "⎢─── - 1      0      0       0     ⎥\n",
              "⎢ r                                ⎥\n",
              "⎢                                  ⎥\n",
              "⎢             1                    ⎥\n",
              "⎢   0     ─────────  0       0     ⎥\n",
              "⎢           2⋅M                    ⎥\n",
              "⎢         - ─── + 1                ⎥\n",
              "⎢            r                     ⎥\n",
              "⎢                                  ⎥\n",
              "⎢                     2            ⎥\n",
              "⎢   0         0      r       0     ⎥\n",
              "⎢                                  ⎥\n",
              "⎢                         2    2   ⎥\n",
              "⎣   0         0      0   r ⋅sin (θ)⎦"
            ]
          },
          "metadata": {
            "tags": []
          },
          "execution_count": 80
        }
      ]
    },
    {
      "cell_type": "markdown",
      "metadata": {
        "id": "20r_2VouxV4e"
      },
      "source": [
        "**2-D toro**"
      ]
    },
    {
      "cell_type": "code",
      "metadata": {
        "colab": {
          "base_uri": "https://localhost:8080/",
          "height": 60
        },
        "id": "incQ1jp2Tiw6",
        "outputId": "9ea0ac82-2241-4192-c8b0-3c2ea4344d73"
      },
      "source": [
        "syms = sympy.symbols(\"r phi\")\n",
        "r, phi = syms\n",
        "R = sympy.symbols(\"R\")\n",
        "m = sympy.Array(sympy.diag((R + r*cos(phi))**2, r**2))\n",
        "m"
      ],
      "execution_count": 49,
      "outputs": [
        {
          "output_type": "execute_result",
          "data": {
            "text/latex": "$$\\left[\\begin{matrix}\\left(R + r \\cos{\\left (\\phi \\right )}\\right)^{2} & 0\\\\0 & r^{2}\\end{matrix}\\right]$$",
            "text/plain": [
              "⎡              2    ⎤\n",
              "⎢(R + r⋅cos(φ))   0 ⎥\n",
              "⎢                   ⎥\n",
              "⎢                  2⎥\n",
              "⎣       0         r ⎦"
            ]
          },
          "metadata": {
            "tags": []
          },
          "execution_count": 49
        }
      ]
    },
    {
      "cell_type": "markdown",
      "metadata": {
        "id": "XfxKK868xYWm"
      },
      "source": [
        "**Wormhole**"
      ]
    },
    {
      "cell_type": "code",
      "metadata": {
        "colab": {
          "base_uri": "https://localhost:8080/",
          "height": 99
        },
        "id": "kmB-YObiuvhx",
        "outputId": "ac7c9c00-c1d8-4366-8de0-4015fa4613c7"
      },
      "source": [
        "syms = sympy.symbols(\"t r theta phi\")\n",
        "t, r, theta, phi = syms\n",
        "b = sympy.symbols(\"b\")\n",
        "gtt = (b**2 + r**2)\n",
        "gpp = gtt * sin(theta)**2\n",
        "m = sympy.Array(sympy.diag(-1, 1, gtt, gpp))\n",
        "m"
      ],
      "execution_count": 4,
      "outputs": [
        {
          "output_type": "execute_result",
          "data": {
            "text/latex": "$$\\left[\\begin{matrix}-1 & 0 & 0 & 0\\\\0 & 1 & 0 & 0\\\\0 & 0 & b^{2} + r^{2} & 0\\\\0 & 0 & 0 & \\left(b^{2} + r^{2}\\right) \\sin^{2}{\\left (\\theta \\right )}\\end{matrix}\\right]$$",
            "text/plain": [
              "⎡-1  0     0             0        ⎤\n",
              "⎢                                 ⎥\n",
              "⎢0   1     0             0        ⎥\n",
              "⎢                                 ⎥\n",
              "⎢        2    2                   ⎥\n",
              "⎢0   0  b  + r           0        ⎥\n",
              "⎢                                 ⎥\n",
              "⎢                ⎛ 2    2⎞    2   ⎥\n",
              "⎣0   0     0     ⎝b  + r ⎠⋅sin (θ)⎦"
            ]
          },
          "metadata": {
            "tags": []
          },
          "execution_count": 4
        }
      ]
    },
    {
      "cell_type": "code",
      "metadata": {
        "colab": {
          "base_uri": "https://localhost:8080/",
          "height": 102
        },
        "id": "PEF9dxCiaBPx",
        "outputId": "cc8d57d2-67d0-45aa-b7db-b9c955f402bc"
      },
      "source": [
        "m_inv = m.applyfunc(lambda x: 0 if x == 0 else 1/x)\n",
        "m_inv"
      ],
      "execution_count": 7,
      "outputs": [
        {
          "output_type": "execute_result",
          "data": {
            "text/latex": "$$\\left[\\begin{matrix}-1 & 0 & 0 & 0\\\\0 & 1 & 0 & 0\\\\0 & 0 & \\frac{1}{b^{2} + r^{2}} & 0\\\\0 & 0 & 0 & \\frac{1}{\\left(b^{2} + r^{2}\\right) \\sin^{2}{\\left (\\theta \\right )}}\\end{matrix}\\right]$$",
            "text/plain": [
              "⎡-1  0     0             0        ⎤\n",
              "⎢                                 ⎥\n",
              "⎢0   1     0             0        ⎥\n",
              "⎢                                 ⎥\n",
              "⎢          1                      ⎥\n",
              "⎢0   0  ───────          0        ⎥\n",
              "⎢        2    2                   ⎥\n",
              "⎢       b  + r                    ⎥\n",
              "⎢                                 ⎥\n",
              "⎢                        1        ⎥\n",
              "⎢0   0     0     ─────────────────⎥\n",
              "⎢                ⎛ 2    2⎞    2   ⎥\n",
              "⎣                ⎝b  + r ⎠⋅sin (θ)⎦"
            ]
          },
          "metadata": {
            "tags": []
          },
          "execution_count": 7
        }
      ]
    },
    {
      "cell_type": "markdown",
      "metadata": {
        "id": "P-eMwre-a3YD"
      },
      "source": [
        "Compute [**Christoffel symbols**](https://hirata10.github.io/ph6820/lec08_christoffel.pdf) (section VI) with all three down indices:"
      ]
    },
    {
      "cell_type": "code",
      "metadata": {
        "colab": {
          "base_uri": "https://localhost:8080/",
          "height": 100
        },
        "id": "a2y42LPKTNJM",
        "outputId": "c96c4099-4b14-4a43-a102-3376ce9e9f19"
      },
      "source": [
        "dim = m.shape[0]\n",
        "ch = sympy.MutableDenseNDimArray(range(dim*dim*dim), (dim,dim,dim))*0\n",
        "for i in range(ch.shape[0]):\n",
        "  for j in range(ch.shape[1]):\n",
        "    for k in range(ch.shape[2]):\n",
        "      ch[i,j,k] = 0.5 * (m[j,i].diff(syms[k]) + m[i,k].diff(syms[j]) - m[k,j].diff(syms[i]))\n",
        "ch"
      ],
      "execution_count": 5,
      "outputs": [
        {
          "output_type": "execute_result",
          "data": {
            "text/latex": "$$\\left[\\begin{matrix}\\left[\\begin{matrix}0 & 0 & 0 & 0\\\\0 & 0 & 0 & 0\\\\0 & 0 & 0 & 0\\\\0 & 0 & 0 & 0\\end{matrix}\\right] & \\left[\\begin{matrix}0 & 0 & 0 & 0\\\\0 & 0 & 0 & 0\\\\0 & 0 & - 1.0 r & 0\\\\0 & 0 & 0 & - 1.0 r \\sin^{2}{\\left (\\theta \\right )}\\end{matrix}\\right] & \\left[\\begin{matrix}0 & 0 & 0 & 0\\\\0 & 0 & 1.0 r & 0\\\\0 & 1.0 r & 0 & 0\\\\0 & 0 & 0 & - 1.0 \\left(b^{2} + r^{2}\\right) \\sin{\\left (\\theta \\right )} \\cos{\\left (\\theta \\right )}\\end{matrix}\\right] & \\left[\\begin{matrix}0 & 0 & 0 & 0\\\\0 & 0 & 0 & 1.0 r \\sin^{2}{\\left (\\theta \\right )}\\\\0 & 0 & 0 & 1.0 \\left(b^{2} + r^{2}\\right) \\sin{\\left (\\theta \\right )} \\cos{\\left (\\theta \\right )}\\\\0 & 1.0 r \\sin^{2}{\\left (\\theta \\right )} & 1.0 \\left(b^{2} + r^{2}\\right) \\sin{\\left (\\theta \\right )} \\cos{\\left (\\theta \\right )} & 0\\end{matrix}\\right]\\end{matrix}\\right]$$",
            "text/plain": [
              "⎡                                                                             \n",
              "⎢              ⎡0  0    0           0       ⎤  ⎡0    0      0                 \n",
              "⎢⎡0  0  0  0⎤  ⎢                            ⎥  ⎢                              \n",
              "⎢⎢          ⎥  ⎢0  0    0           0       ⎥  ⎢0    0    1.0⋅r               \n",
              "⎢⎢0  0  0  0⎥  ⎢                            ⎥  ⎢                              \n",
              "⎢⎢          ⎥  ⎢0  0  -1.0⋅r        0       ⎥  ⎢0  1.0⋅r    0                 \n",
              "⎢⎢0  0  0  0⎥  ⎢                            ⎥  ⎢                              \n",
              "⎢⎢          ⎥  ⎢                        2   ⎥  ⎢                      ⎛ 2    2\n",
              "⎢⎣0  0  0  0⎦  ⎣0  0    0     -1.0⋅r⋅sin (θ)⎦  ⎣0    0      0    -1.0⋅⎝b  + r \n",
              "⎣                                                                             \n",
              "\n",
              "                  ⎡0        0                     0                           \n",
              "0              ⎤  ⎢                                                           \n",
              "               ⎥  ⎢                                                           \n",
              "0              ⎥  ⎢0        0                     0                      1.0⋅r\n",
              "               ⎥  ⎢                                                           \n",
              "0              ⎥  ⎢                                                   ⎛ 2    2\n",
              "               ⎥  ⎢0        0                     0               1.0⋅⎝b  + r \n",
              "⎞              ⎥  ⎢                                                           \n",
              "⎠⋅sin(θ)⋅cos(θ)⎦  ⎢            2         ⎛ 2    2⎞                            \n",
              "                  ⎣0  1.0⋅r⋅sin (θ)  1.0⋅⎝b  + r ⎠⋅sin(θ)⋅cos(θ)              \n",
              "\n",
              " 0             ⎤⎤\n",
              "               ⎥⎥\n",
              "    2          ⎥⎥\n",
              "⋅sin (θ)       ⎥⎥\n",
              "               ⎥⎥\n",
              "⎞              ⎥⎥\n",
              "⎠⋅sin(θ)⋅cos(θ)⎥⎥\n",
              "               ⎥⎥\n",
              "               ⎥⎥\n",
              " 0             ⎦⎦"
            ]
          },
          "metadata": {
            "tags": []
          },
          "execution_count": 5
        }
      ]
    },
    {
      "cell_type": "markdown",
      "metadata": {
        "id": "r3QLv0IzayGf"
      },
      "source": [
        "Raise first index via metric multiplication (tensorproduct followed by contration on the selected indices - one up from metric, first down from Christoffel symbol-):"
      ]
    },
    {
      "cell_type": "code",
      "metadata": {
        "colab": {
          "base_uri": "https://localhost:8080/",
          "height": 110
        },
        "id": "ag65QLP7ZwjT",
        "outputId": "69e7b432-08c0-4a51-e693-ada949591fd0"
      },
      "source": [
        "temp = sympy.tensorproduct(m_inv, ch)\n",
        "#ch = temp[:,0,0,:,:]  + temp[:,1,1,:,:]\n",
        "ch = sympy.tensorcontraction(temp,(1,2))\n",
        "#ch = sum([sympy.simplify(temp[:,i,i,:,:]) for i in range(dim)],sympy.MutableDenseNDimArray(range(dim*dim*dim), (dim,dim,dim))*0)\n",
        "ch"
      ],
      "execution_count": 8,
      "outputs": [
        {
          "output_type": "execute_result",
          "data": {
            "text/latex": "$$\\left[\\begin{matrix}\\left[\\begin{matrix}0 & 0 & 0 & 0\\\\0 & 0 & 0 & 0\\\\0 & 0 & 0 & 0\\\\0 & 0 & 0 & 0\\end{matrix}\\right] & \\left[\\begin{matrix}0 & 0 & 0 & 0\\\\0 & 0 & 0 & 0\\\\0 & 0 & - 1.0 r & 0\\\\0 & 0 & 0 & - 1.0 r \\sin^{2}{\\left (\\theta \\right )}\\end{matrix}\\right] & \\left[\\begin{matrix}0 & 0 & 0 & 0\\\\0 & 0 & \\frac{1.0 r}{b^{2} + r^{2}} & 0\\\\0 & \\frac{1.0 r}{b^{2} + r^{2}} & 0 & 0\\\\0 & 0 & 0 & - 1.0 \\sin{\\left (\\theta \\right )} \\cos{\\left (\\theta \\right )}\\end{matrix}\\right] & \\left[\\begin{matrix}0 & 0 & 0 & 0\\\\0 & 0 & 0 & \\frac{1.0 r}{b^{2} + r^{2}}\\\\0 & 0 & 0 & \\frac{1.0 \\cos{\\left (\\theta \\right )}}{\\sin{\\left (\\theta \\right )}}\\\\0 & \\frac{1.0 r}{b^{2} + r^{2}} & \\frac{1.0 \\cos{\\left (\\theta \\right )}}{\\sin{\\left (\\theta \\right )}} & 0\\end{matrix}\\right]\\end{matrix}\\right]$$",
            "text/plain": [
              "⎡                                                                             \n",
              "⎢                                              ⎡0     0        0             0\n",
              "⎢                                              ⎢                              \n",
              "⎢              ⎡0  0    0           0       ⎤  ⎢             1.0⋅r            \n",
              "⎢⎡0  0  0  0⎤  ⎢                            ⎥  ⎢0     0     ───────          0\n",
              "⎢⎢          ⎥  ⎢0  0    0           0       ⎥  ⎢             2    2           \n",
              "⎢⎢0  0  0  0⎥  ⎢                            ⎥  ⎢            b  + r            \n",
              "⎢⎢          ⎥  ⎢0  0  -1.0⋅r        0       ⎥  ⎢                              \n",
              "⎢⎢0  0  0  0⎥  ⎢                            ⎥  ⎢    1.0⋅r                     \n",
              "⎢⎢          ⎥  ⎢                        2   ⎥  ⎢0  ───────     0             0\n",
              "⎢⎣0  0  0  0⎦  ⎣0  0    0     -1.0⋅r⋅sin (θ)⎦  ⎢    2    2                    \n",
              "⎢                                              ⎢   b  + r                     \n",
              "⎢                                              ⎢                              \n",
              "⎢                                              ⎣0     0        0     -1.0⋅sin(\n",
              "⎣                                                                             \n",
              "\n",
              "            ⎡0     0         0           0     ⎤⎤\n",
              "         ⎤  ⎢                                  ⎥⎥\n",
              "         ⎥  ⎢                          1.0⋅r   ⎥⎥\n",
              "         ⎥  ⎢0     0         0        ───────  ⎥⎥\n",
              "         ⎥  ⎢                          2    2  ⎥⎥\n",
              "         ⎥  ⎢                         b  + r   ⎥⎥\n",
              "         ⎥  ⎢                                  ⎥⎥\n",
              "         ⎥  ⎢                        1.0⋅cos(θ)⎥⎥\n",
              "         ⎥  ⎢0     0         0       ──────────⎥⎥\n",
              "         ⎥  ⎢                          sin(θ)  ⎥⎥\n",
              "         ⎥  ⎢                                  ⎥⎥\n",
              "         ⎥  ⎢    1.0⋅r   1.0⋅cos(θ)            ⎥⎥\n",
              "         ⎥  ⎢0  ───────  ──────────      0     ⎥⎥\n",
              "θ)⋅cos(θ)⎦  ⎢    2    2    sin(θ)              ⎥⎥\n",
              "            ⎣   b  + r                         ⎦⎦"
            ]
          },
          "metadata": {
            "tags": []
          },
          "execution_count": 8
        }
      ]
    },
    {
      "cell_type": "markdown",
      "metadata": {
        "id": "4V8qEn06fKnQ"
      },
      "source": [
        "Compute the **[Rieman](https://hirata10.github.io/ph6820/lec10_curvature.pdf) curvature tensor** (section III):"
      ]
    },
    {
      "cell_type": "code",
      "metadata": {
        "colab": {
          "base_uri": "https://localhost:8080/",
          "height": 374
        },
        "id": "pGNo11Kxe9au",
        "outputId": "5419a80e-9a69-4976-b3c0-b397e7d53ec4"
      },
      "source": [
        "rie = sympy.MutableDenseNDimArray(range(dim*dim*dim*dim), (dim,dim,dim,dim))*0\n",
        "for i in range(rie.shape[0]):\n",
        "  for j in range(rie.shape[1]):\n",
        "    for k in range(rie.shape[2]):\n",
        "      for l in range(rie.shape[3]):\n",
        "        sum_1 = sum([ch[i,m,k]*ch[m,j,l] for m in range(dim)])\n",
        "        sum_2 = sum([ch[i,m,l]*ch[m,j,k] for m in range(dim)])\n",
        "        rie[i,j,k,l] = sympy.simplify(ch[i,j,l].diff(syms[k]) - ch[i,j,k].diff(syms[l]) + sum_1 - sum_2)\n",
        "rie"
      ],
      "execution_count": 9,
      "outputs": [
        {
          "output_type": "execute_result",
          "data": {
            "text/latex": "$$\\left[\\begin{matrix}\\left[\\begin{matrix}0 & 0 & 0 & 0\\\\0 & 0 & 0 & 0\\\\0 & 0 & 0 & 0\\\\0 & 0 & 0 & 0\\end{matrix}\\right] & \\left[\\begin{matrix}0 & 0 & 0 & 0\\\\0 & 0 & 0 & 0\\\\0 & 0 & 0 & 0\\\\0 & 0 & 0 & 0\\end{matrix}\\right] & \\left[\\begin{matrix}0 & 0 & 0 & 0\\\\0 & 0 & 0 & 0\\\\0 & 0 & 0 & 0\\\\0 & 0 & 0 & 0\\end{matrix}\\right] & \\left[\\begin{matrix}0 & 0 & 0 & 0\\\\0 & 0 & 0 & 0\\\\0 & 0 & 0 & 0\\\\0 & 0 & 0 & 0\\end{matrix}\\right]\\\\\\left[\\begin{matrix}0 & 0 & 0 & 0\\\\0 & 0 & 0 & 0\\\\0 & 0 & 0 & 0\\\\0 & 0 & 0 & 0\\end{matrix}\\right] & \\left[\\begin{matrix}0 & 0 & 0 & 0\\\\0 & 0 & 0 & 0\\\\0 & 0 & 0 & 0\\\\0 & 0 & 0 & 0\\end{matrix}\\right] & \\left[\\begin{matrix}0 & 0 & 0 & 0\\\\0 & 0 & - \\frac{1.0 b^{2}}{b^{2} + r^{2}} & 0\\\\0 & \\frac{1.0 b^{2}}{b^{2} + r^{2}} & 0 & 0\\\\0 & 0 & 0 & 0\\end{matrix}\\right] & \\left[\\begin{matrix}0 & 0 & 0 & 0\\\\0 & 0 & 0 & - \\frac{1.0 b^{2} \\sin^{2}{\\left (\\theta \\right )}}{b^{2} + r^{2}}\\\\0 & 0 & 0 & 0\\\\0 & \\frac{1.0 b^{2} \\sin^{2}{\\left (\\theta \\right )}}{b^{2} + r^{2}} & 0 & 0\\end{matrix}\\right]\\\\\\left[\\begin{matrix}0 & 0 & 0 & 0\\\\0 & 0 & 0 & 0\\\\0 & 0 & 0 & 0\\\\0 & 0 & 0 & 0\\end{matrix}\\right] & \\left[\\begin{matrix}0 & 0 & 0 & 0\\\\0 & 0 & \\frac{1.0 b^{2}}{1.0 b^{4} + 2.0 b^{2} r^{2} + 1.0 r^{4}} & 0\\\\0 & - \\frac{1.0 b^{2}}{\\left(b^{2} + r^{2}\\right)^{2}} & 0 & 0\\\\0 & 0 & 0 & 0\\end{matrix}\\right] & \\left[\\begin{matrix}0 & 0 & 0 & 0\\\\0 & 0 & 0 & 0\\\\0 & 0 & 0 & 0\\\\0 & 0 & 0 & 0\\end{matrix}\\right] & \\left[\\begin{matrix}0 & 0 & 0 & 0\\\\0 & 0 & 0 & 0\\\\0 & 0 & 0 & \\frac{1.0 b^{2} \\sin^{2}{\\left (\\theta \\right )}}{b^{2} + r^{2}}\\\\0 & 0 & - \\frac{1.0 b^{2} \\sin^{2}{\\left (\\theta \\right )}}{b^{2} + r^{2}} & 0\\end{matrix}\\right]\\\\\\left[\\begin{matrix}0 & 0 & 0 & 0\\\\0 & 0 & 0 & 0\\\\0 & 0 & 0 & 0\\\\0 & 0 & 0 & 0\\end{matrix}\\right] & \\left[\\begin{matrix}0 & 0 & 0 & 0\\\\0 & 0 & 0 & \\frac{1.0 b^{2}}{1.0 b^{4} + 2.0 b^{2} r^{2} + 1.0 r^{4}}\\\\0 & 0 & 0 & 0\\\\0 & - \\frac{1.0 b^{2}}{\\left(b^{2} + r^{2}\\right)^{2}} & 0 & 0\\end{matrix}\\right] & \\left[\\begin{matrix}0 & 0 & 0 & 0\\\\0 & 0 & 0 & 0\\\\0 & 0 & 0 & - \\frac{1.0 b^{2}}{b^{2} + r^{2}}\\\\0 & 0 & \\frac{1.0 b^{2}}{b^{2} + r^{2}} & 0\\end{matrix}\\right] & \\left[\\begin{matrix}0 & 0 & 0 & 0\\\\0 & 0 & 0 & 0\\\\0 & 0 & 0 & 0\\\\0 & 0 & 0 & 0\\end{matrix}\\right]\\end{matrix}\\right]$$",
            "text/plain": [
              "⎡⎡0  0  0  0⎤                   ⎡0  0  0  0⎤                          ⎡0  0  0\n",
              "⎢⎢          ⎥                   ⎢          ⎥                          ⎢       \n",
              "⎢⎢0  0  0  0⎥                   ⎢0  0  0  0⎥                          ⎢0  0  0\n",
              "⎢⎢          ⎥                   ⎢          ⎥                          ⎢       \n",
              "⎢⎢0  0  0  0⎥                   ⎢0  0  0  0⎥                          ⎢0  0  0\n",
              "⎢⎢          ⎥                   ⎢          ⎥                          ⎢       \n",
              "⎢⎣0  0  0  0⎦                   ⎣0  0  0  0⎦                          ⎣0  0  0\n",
              "⎢                                                                             \n",
              "⎢                                                               ⎡0     0      \n",
              "⎢                                                               ⎢             \n",
              "⎢                                                               ⎢             \n",
              "⎢                                                               ⎢            -\n",
              "⎢⎡0  0  0  0⎤                   ⎡0  0  0  0⎤                    ⎢0     0     ─\n",
              "⎢⎢          ⎥                   ⎢          ⎥                    ⎢             \n",
              "⎢⎢0  0  0  0⎥                   ⎢0  0  0  0⎥                    ⎢            b\n",
              "⎢⎢          ⎥                   ⎢          ⎥                    ⎢             \n",
              "⎢⎢0  0  0  0⎥                   ⎢0  0  0  0⎥                    ⎢         2   \n",
              "⎢⎢          ⎥                   ⎢          ⎥                    ⎢    1.0⋅b    \n",
              "⎢⎣0  0  0  0⎦                   ⎣0  0  0  0⎦                    ⎢0  ───────   \n",
              "⎢                                                               ⎢    2    2   \n",
              "⎢                                                               ⎢   b  + r    \n",
              "⎢                                                               ⎢             \n",
              "⎢                                                               ⎣0     0      \n",
              "⎢                                                                             \n",
              "⎢              ⎡0      0                    0               0⎤                \n",
              "⎢              ⎢                                             ⎥                \n",
              "⎢              ⎢                               2             ⎥                \n",
              "⎢              ⎢                          1.0⋅b              ⎥                \n",
              "⎢              ⎢0      0       ───────────────────────────  0⎥                \n",
              "⎢⎡0  0  0  0⎤  ⎢                    4        2  2        4   ⎥        ⎡0  0  0\n",
              "⎢⎢          ⎥  ⎢               1.0⋅b  + 2.0⋅b ⋅r  + 1.0⋅r    ⎥        ⎢       \n",
              "⎢⎢0  0  0  0⎥  ⎢                                             ⎥        ⎢0  0  0\n",
              "⎢⎢          ⎥  ⎢          2                                  ⎥        ⎢       \n",
              "⎢⎢0  0  0  0⎥  ⎢    -1.0⋅b                                   ⎥        ⎢0  0  0\n",
              "⎢⎢          ⎥  ⎢0  ──────────               0               0⎥        ⎢       \n",
              "⎢⎣0  0  0  0⎦  ⎢            2                                ⎥        ⎣0  0  0\n",
              "⎢              ⎢   ⎛ 2    2⎞                                 ⎥                \n",
              "⎢              ⎢   ⎝b  + r ⎠                                 ⎥                \n",
              "⎢              ⎢                                             ⎥                \n",
              "⎢              ⎣0      0                    0               0⎦                \n",
              "⎢                                                                             \n",
              "⎢              ⎡0      0       0               0             ⎤                \n",
              "⎢              ⎢                                             ⎥  ⎡0  0     0   \n",
              "⎢              ⎢                                  2          ⎥  ⎢             \n",
              "⎢              ⎢                             1.0⋅b           ⎥  ⎢0  0     0   \n",
              "⎢              ⎢0      0       0  ───────────────────────────⎥  ⎢             \n",
              "⎢⎡0  0  0  0⎤  ⎢                       4        2  2        4⎥  ⎢             \n",
              "⎢⎢          ⎥  ⎢                  1.0⋅b  + 2.0⋅b ⋅r  + 1.0⋅r ⎥  ⎢             \n",
              "⎢⎢0  0  0  0⎥  ⎢                                             ⎥  ⎢0  0     0   \n",
              "⎢⎢          ⎥  ⎢0      0       0               0             ⎥  ⎢             \n",
              "⎢⎢0  0  0  0⎥  ⎢                                             ⎥  ⎢             \n",
              "⎢⎢          ⎥  ⎢          2                                  ⎥  ⎢             \n",
              "⎢⎣0  0  0  0⎦  ⎢    -1.0⋅b                                   ⎥  ⎢            2\n",
              "⎢              ⎢0  ──────────  0               0             ⎥  ⎢       1.0⋅b \n",
              "⎢              ⎢            2                                ⎥  ⎢0  0  ───────\n",
              "⎢              ⎢   ⎛ 2    2⎞                                 ⎥  ⎢       2    2\n",
              "⎣              ⎣   ⎝b  + r ⎠                                 ⎦  ⎣      b  + r \n",
              "\n",
              "  0⎤                       ⎡0  0  0  0⎤              ⎤\n",
              "   ⎥                       ⎢          ⎥              ⎥\n",
              "  0⎥                       ⎢0  0  0  0⎥              ⎥\n",
              "   ⎥                       ⎢          ⎥              ⎥\n",
              "  0⎥                       ⎢0  0  0  0⎥              ⎥\n",
              "   ⎥                       ⎢          ⎥              ⎥\n",
              "  0⎦                       ⎣0  0  0  0⎦              ⎥\n",
              "                                                     ⎥\n",
              "  0      0⎤  ⎡0        0         0         0        ⎤⎥\n",
              "          ⎥  ⎢                                      ⎥⎥\n",
              "     2    ⎥  ⎢                            2    2    ⎥⎥\n",
              "1.0⋅b     ⎥  ⎢                      -1.0⋅b ⋅sin (θ) ⎥⎥\n",
              "───────  0⎥  ⎢0        0         0  ────────────────⎥⎥\n",
              "2    2    ⎥  ⎢                           2    2     ⎥⎥\n",
              "  + r     ⎥  ⎢                          b  + r      ⎥⎥\n",
              "          ⎥  ⎢                                      ⎥⎥\n",
              "          ⎥  ⎢0        0         0         0        ⎥⎥\n",
              "          ⎥  ⎢                                      ⎥⎥\n",
              "  0      0⎥  ⎢        2    2                        ⎥⎥\n",
              "          ⎥  ⎢   1.0⋅b ⋅sin (θ)                     ⎥⎥\n",
              "          ⎥  ⎢0  ──────────────  0         0        ⎥⎥\n",
              "          ⎥  ⎢       2    2                         ⎥⎥\n",
              "  0      0⎦  ⎣      b  + r                          ⎦⎥\n",
              "                                                     ⎥\n",
              "                                                     ⎥\n",
              "             ⎡0  0         0                0       ⎤⎥\n",
              "             ⎢                                      ⎥⎥\n",
              "             ⎢0  0         0                0       ⎥⎥\n",
              "             ⎢                                      ⎥⎥\n",
              "  0⎤         ⎢                             2    2   ⎥⎥\n",
              "   ⎥         ⎢                        1.0⋅b ⋅sin (θ)⎥⎥\n",
              "  0⎥         ⎢0  0         0          ──────────────⎥⎥\n",
              "   ⎥         ⎢                            2    2    ⎥⎥\n",
              "  0⎥         ⎢                           b  + r     ⎥⎥\n",
              "   ⎥         ⎢                                      ⎥⎥\n",
              "  0⎦         ⎢            2    2                    ⎥⎥\n",
              "             ⎢      -1.0⋅b ⋅sin (θ)                 ⎥⎥\n",
              "             ⎢0  0  ────────────────        0       ⎥⎥\n",
              "             ⎢           2    2                     ⎥⎥\n",
              "             ⎣          b  + r                      ⎦⎥\n",
              "                                                     ⎥\n",
              "                                                     ⎥\n",
              "     0    ⎤                                          ⎥\n",
              "          ⎥                                          ⎥\n",
              "     0    ⎥                                          ⎥\n",
              "          ⎥                                          ⎥\n",
              "        2 ⎥                ⎡0  0  0  0⎤              ⎥\n",
              "  -1.0⋅b  ⎥                ⎢          ⎥              ⎥\n",
              "  ────────⎥                ⎢0  0  0  0⎥              ⎥\n",
              "   2    2 ⎥                ⎢          ⎥              ⎥\n",
              "  b  + r  ⎥                ⎢0  0  0  0⎥              ⎥\n",
              "          ⎥                ⎢          ⎥              ⎥\n",
              "          ⎥                ⎣0  0  0  0⎦              ⎥\n",
              "          ⎥                                          ⎥\n",
              "     0    ⎥                                          ⎥\n",
              "          ⎥                                          ⎥\n",
              "          ⎦                                          ⎦"
            ]
          },
          "metadata": {
            "tags": []
          },
          "execution_count": 9
        }
      ]
    },
    {
      "cell_type": "markdown",
      "metadata": {
        "id": "IrKTH6C08vfN"
      },
      "source": [
        "Now compute the **Ricci tensor** by contracting the Rieman tensor:"
      ]
    },
    {
      "cell_type": "code",
      "metadata": {
        "colab": {
          "base_uri": "https://localhost:8080/",
          "height": 105
        },
        "id": "1GDrdWU6268V",
        "outputId": "2b88f401-6493-42ff-c251-54da90a22a38"
      },
      "source": [
        "#ric = rie[0,:,0,:] + rie[1,:,1,:]\n",
        "ric = sympy.tensorcontraction(rie,(0,2))\n",
        "#ric = sum([rie[i,:,i,:] for i in range(dim)],sympy.MutableDenseNDimArray(range(dim*dim), (dim,dim))*0)\n",
        "ric"
      ],
      "execution_count": 10,
      "outputs": [
        {
          "output_type": "execute_result",
          "data": {
            "text/latex": "$$\\left[\\begin{matrix}0 & 0 & 0 & 0\\\\0 & - \\frac{2.0 b^{2}}{\\left(b^{2} + r^{2}\\right)^{2}} & 0 & 0\\\\0 & 0 & 0 & 0\\\\0 & 0 & 0 & 0\\end{matrix}\\right]$$",
            "text/plain": [
              "⎡0      0       0  0⎤\n",
              "⎢                   ⎥\n",
              "⎢          2        ⎥\n",
              "⎢    -2.0⋅b         ⎥\n",
              "⎢0  ──────────  0  0⎥\n",
              "⎢            2      ⎥\n",
              "⎢   ⎛ 2    2⎞       ⎥\n",
              "⎢   ⎝b  + r ⎠       ⎥\n",
              "⎢                   ⎥\n",
              "⎢0      0       0  0⎥\n",
              "⎢                   ⎥\n",
              "⎣0      0       0  0⎦"
            ]
          },
          "metadata": {
            "tags": []
          },
          "execution_count": 10
        }
      ]
    },
    {
      "cell_type": "markdown",
      "metadata": {
        "id": "X3L9GBqS8T_Z"
      },
      "source": [
        "Note that due to symmetries, we could have chosen different down indices and get the analogous result:"
      ]
    },
    {
      "cell_type": "code",
      "metadata": {
        "colab": {
          "base_uri": "https://localhost:8080/",
          "height": 102
        },
        "id": "XUPCT15A8drC",
        "outputId": "9fc2fe9b-e24a-4afb-c4c6-1d21c835febb"
      },
      "source": [
        "#rie[0,:,:,0] + rie[1,:,:,1]\n",
        "sympy.tensorcontraction(rie,(0,3))\n",
        "#sum([rie[i,:,:,i] for i in range(dim)],sympy.MutableDenseNDimArray(range(dim*dim), (dim,dim))*0)\n"
      ],
      "execution_count": 11,
      "outputs": [
        {
          "output_type": "execute_result",
          "data": {
            "text/latex": "$$\\left[\\begin{matrix}0 & 0 & 0 & 0\\\\0 & \\frac{2.0 b^{2}}{1.0 b^{4} + 2.0 b^{2} r^{2} + 1.0 r^{4}} & 0 & 0\\\\0 & 0 & 0 & 0\\\\0 & 0 & 0 & 0\\end{matrix}\\right]$$",
            "text/plain": [
              "⎡0               0               0  0⎤\n",
              "⎢                                    ⎥\n",
              "⎢                   2                ⎥\n",
              "⎢              2.0⋅b                 ⎥\n",
              "⎢0  ───────────────────────────  0  0⎥\n",
              "⎢        4        2  2        4      ⎥\n",
              "⎢   1.0⋅b  + 2.0⋅b ⋅r  + 1.0⋅r       ⎥\n",
              "⎢                                    ⎥\n",
              "⎢0               0               0  0⎥\n",
              "⎢                                    ⎥\n",
              "⎣0               0               0  0⎦"
            ]
          },
          "metadata": {
            "tags": []
          },
          "execution_count": 11
        }
      ]
    },
    {
      "cell_type": "markdown",
      "metadata": {
        "id": "S8nSwzER86oy"
      },
      "source": [
        "and the other option would be all zeros:"
      ]
    },
    {
      "cell_type": "code",
      "metadata": {
        "colab": {
          "base_uri": "https://localhost:8080/",
          "height": 99
        },
        "id": "XL-kDqWK89Qk",
        "outputId": "579b11fa-5a3c-4b70-e6c5-1483dc65b6ba"
      },
      "source": [
        "#rie[0,0,:,:] + rie[1,1,:,:]\n",
        "sympy.tensorcontraction(rie,(0,1))\n",
        "#sum([rie[i,i,:,:] for i in range(dim)],sympy.MutableDenseNDimArray(range(dim*dim), (dim,dim))*0)\n"
      ],
      "execution_count": 12,
      "outputs": [
        {
          "output_type": "execute_result",
          "data": {
            "text/latex": "$$\\left[\\begin{matrix}0 & 0 & 0 & 0\\\\0 & 0 & 0 & 0\\\\0 & 0 & 0 & 0\\\\0 & 0 & 0 & 0\\end{matrix}\\right]$$",
            "text/plain": [
              "⎡0  0  0  0⎤\n",
              "⎢          ⎥\n",
              "⎢0  0  0  0⎥\n",
              "⎢          ⎥\n",
              "⎢0  0  0  0⎥\n",
              "⎢          ⎥\n",
              "⎣0  0  0  0⎦"
            ]
          },
          "metadata": {
            "tags": []
          },
          "execution_count": 12
        }
      ]
    },
    {
      "cell_type": "markdown",
      "metadata": {
        "id": "xgvsN3-L64Mj"
      },
      "source": [
        "The Ricci tensor now has two down indices. To compute the Ricci scalar, first raise one index in the Ricci tensor, (via metric multiplication: tensor product followed by contraction):"
      ]
    },
    {
      "cell_type": "code",
      "metadata": {
        "colab": {
          "base_uri": "https://localhost:8080/",
          "height": 105
        },
        "id": "Sz7XBd6J3L9i",
        "outputId": "1bbb7f23-967a-44b3-c8d7-14ee6056e390"
      },
      "source": [
        "temp = sympy.tensorproduct(m_inv,ric)\n",
        "#ric2 = temp[0,:,0,:] + temp[1,:,1,:]\n",
        "ric2 = sympy.tensorcontraction(temp,(0,2))\n",
        "#ric2 = sum([temp[i,:,i,:] for i in range(dim)],sympy.MutableDenseNDimArray(range(dim*dim), (dim,dim))*0)\n",
        "ric2"
      ],
      "execution_count": 17,
      "outputs": [
        {
          "output_type": "execute_result",
          "data": {
            "text/latex": "$$\\left[\\begin{matrix}0 & 0 & 0 & 0\\\\0 & - \\frac{2.0 b^{2}}{\\left(b^{2} + r^{2}\\right)^{2}} & 0 & 0\\\\0 & 0 & 0 & 0\\\\0 & 0 & 0 & 0\\end{matrix}\\right]$$",
            "text/plain": [
              "⎡0      0       0  0⎤\n",
              "⎢                   ⎥\n",
              "⎢          2        ⎥\n",
              "⎢    -2.0⋅b         ⎥\n",
              "⎢0  ──────────  0  0⎥\n",
              "⎢            2      ⎥\n",
              "⎢   ⎛ 2    2⎞       ⎥\n",
              "⎢   ⎝b  + r ⎠       ⎥\n",
              "⎢                   ⎥\n",
              "⎢0      0       0  0⎥\n",
              "⎢                   ⎥\n",
              "⎣0      0       0  0⎦"
            ]
          },
          "metadata": {
            "tags": []
          },
          "execution_count": 17
        }
      ]
    },
    {
      "cell_type": "markdown",
      "metadata": {
        "id": "HmDUmhcV7PN2"
      },
      "source": [
        "And finally contract the Ricci tensor to get the **Ricci scalar**:"
      ]
    },
    {
      "cell_type": "code",
      "metadata": {
        "colab": {
          "base_uri": "https://localhost:8080/",
          "height": 44
        },
        "id": "-enQs-0j5fgQ",
        "outputId": "b2f570c7-9736-45ad-9264-9a6ff9f7bb8b"
      },
      "source": [
        "#ric_s = ric2[0,0] + ric2[1,1]\n",
        "ric_s = sympy.tensorcontraction(ric2,(0,1))\n",
        "#ric_s = sum([ric2[i,i] for i in range(dim)])\n",
        "ric_s"
      ],
      "execution_count": 15,
      "outputs": [
        {
          "output_type": "execute_result",
          "data": {
            "image/png": "[encoded data removed]",
            "text/latex": "$$- \\frac{2.0 b^{2}}{\\left(b^{2} + r^{2}\\right)^{2}}$$",
            "text/plain": [
              "       2  \n",
              " -2.0⋅b   \n",
              "──────────\n",
              "         2\n",
              "⎛ 2    2⎞ \n",
              "⎝b  + r ⎠ "
            ]
          },
          "metadata": {
            "tags": []
          },
          "execution_count": 15
        }
      ]
    },
    {
      "cell_type": "markdown",
      "metadata": {
        "id": "bDSOyKpc9OeW"
      },
      "source": [
        "[**Einstein Tensor**](https://hirata10.github.io/ph6820/lec11_efe.pdf) (section IV.A, equation 15), with down indices, is then:"
      ]
    },
    {
      "cell_type": "code",
      "metadata": {
        "colab": {
          "base_uri": "https://localhost:8080/",
          "height": 121
        },
        "id": "hQeDo_oX9QwE",
        "outputId": "80bd6de3-ffa5-4001-fca5-35136c886eff"
      },
      "source": [
        "ein = ric - 0.5 * ric_s * m\n",
        "ein"
      ],
      "execution_count": 16,
      "outputs": [
        {
          "output_type": "execute_result",
          "data": {
            "text/latex": "$$\\left[\\begin{matrix}- \\frac{1.0 b^{2}}{\\left(b^{2} + r^{2}\\right)^{2}} & 0 & 0 & 0\\\\0 & - \\frac{1.0 b^{2}}{\\left(b^{2} + r^{2}\\right)^{2}} & 0 & 0\\\\0 & 0 & \\frac{1.0 b^{2}}{b^{2} + r^{2}} & 0\\\\0 & 0 & 0 & \\frac{1.0 b^{2} \\sin^{2}{\\left (\\theta \\right )}}{b^{2} + r^{2}}\\end{matrix}\\right]$$",
            "text/plain": [
              "⎡       2                                       ⎤\n",
              "⎢ -1.0⋅b                                        ⎥\n",
              "⎢──────────      0          0           0       ⎥\n",
              "⎢         2                                     ⎥\n",
              "⎢⎛ 2    2⎞                                      ⎥\n",
              "⎢⎝b  + r ⎠                                      ⎥\n",
              "⎢                                               ⎥\n",
              "⎢                   2                           ⎥\n",
              "⎢             -1.0⋅b                            ⎥\n",
              "⎢    0       ──────────     0           0       ⎥\n",
              "⎢                     2                         ⎥\n",
              "⎢            ⎛ 2    2⎞                          ⎥\n",
              "⎢            ⎝b  + r ⎠                          ⎥\n",
              "⎢                                               ⎥\n",
              "⎢                              2                ⎥\n",
              "⎢                         1.0⋅b                 ⎥\n",
              "⎢    0           0       ───────        0       ⎥\n",
              "⎢                         2    2                ⎥\n",
              "⎢                        b  + r                 ⎥\n",
              "⎢                                               ⎥\n",
              "⎢                                      2    2   ⎥\n",
              "⎢                                 1.0⋅b ⋅sin (θ)⎥\n",
              "⎢    0           0          0     ──────────────⎥\n",
              "⎢                                     2    2    ⎥\n",
              "⎣                                    b  + r     ⎦"
            ]
          },
          "metadata": {
            "tags": []
          },
          "execution_count": 16
        }
      ]
    },
    {
      "cell_type": "markdown",
      "metadata": {
        "id": "hczbzQndA_WX"
      },
      "source": [
        "which is 0 as expected for spherical polar coordinates, given that they correspond to flat spacetime."
      ]
    }
  ]
}